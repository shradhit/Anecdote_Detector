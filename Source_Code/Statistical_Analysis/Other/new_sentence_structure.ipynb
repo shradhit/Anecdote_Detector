{
 "cells": [
  {
   "cell_type": "code",
   "execution_count": 1,
   "metadata": {
    "autoscroll": false,
    "ein.tags": "worksheet-0",
    "slideshow": {
     "slide_type": "-"
    }
   },
   "outputs": [
    {
     "name": "stderr",
     "output_type": "stream",
     "text": [
      "/usr/local/lib/python2.7/dist-packages/sklearn/cross_validation.py:41: DeprecationWarning: This module was deprecated in version 0.18 in favor of the model_selection module into which all the refactored classes and functions are moved. Also note that the interface of the new CV iterators are different from that of this module. This module will be removed in 0.20.\n",
      "  \"This module will be removed in 0.20.\", DeprecationWarning)\n"
     ]
    }
   ],
   "source": [
    "import nltk\n",
    "import xgboost as xgb\n",
    "import numpy as np\n",
    "import pandas as pd\n",
    "from sklearn.tree import DecisionTreeClassifier\n",
    "from sklearn.ensemble import RandomForestClassifier, AdaBoostClassifier, VotingClassifier, ExtraTreesClassifier\n",
    "from sklearn.svm import SVC\n",
    "from sklearn.naive_bayes import MultinomialNB\n",
    "from sklearn.utils import shuffle\n",
    "from sklearn.metrics import accuracy_score, precision_score, recall_score, f1_score\n",
    "import matplotlib.pyplot as plt\n",
    "from sklearn.cross_validation import train_test_split\n",
    "from sklearn.cross_validation import cross_val_score\n",
    "from sklearn.metrics import confusion_matrix\n",
    "import seaborn as sns\n",
    "from sklearn.linear_model import LogisticRegression\n",
    "from sklearn.feature_selection import RFE"
   ]
  },
  {
   "cell_type": "code",
   "execution_count": 3,
   "metadata": {},
   "outputs": [],
   "source": [
    "import matplotlib.pyplot"
   ]
  },
  {
   "cell_type": "code",
   "execution_count": 2,
   "metadata": {},
   "outputs": [],
   "source": [
    "#fname_all_anecdotal_sents = \"/home/shirish/BTECHSEM2/project/Book/anecdotal_sents/all_anecdotes.txt\"\n",
    "#fname_all_non_anecdotal_sents = \"/home/shirish/BTECHSEM2/project/Book/non_anecdotal_sents/all_non_anecdotal.txt\"\n",
    "fname_all_anecdotal_sents = \"/home/shirish/BTECHSEM2/project/books/stories/new_complete_stories.txt\"\n",
    "fname_all_non_anecdotal_sents = \"/home/shirish/BTECHSEM2/project/books/annotated_books/stories_without_anecdotes/new_all_stories.txt2\"\n",
    "#fname_all_stories_sents = \"/home/shirish/BTECHSEM2/project/books/combined_book/all_stories.txt\"\n",
    "#fname_buffet_sents = \"/home/shirish/BTECHSEM2/project/books/buffet_en.txt\"\n",
    "imp_cols = [\"POS\", \"NNP\", \"VBD\", \"VBG\", \"PRP\", \"VBZ\"]\n",
    "#imp_cols = [\"POS\", \"NNP\", \"VBD\", \"VBG\", \"PRP\", \"CC\"]\n",
    "#imp_cols = [\"CC\",\"DT\",\"NN\",\"PDT\",\"POS\",\"UH\"]"
   ]
  },
  {
   "cell_type": "code",
   "execution_count": 3,
   "metadata": {
    "autoscroll": false,
    "ein.tags": "worksheet-0",
    "slideshow": {
     "slide_type": "-"
    }
   },
   "outputs": [],
   "source": [
    "def tokenize(fname):\n",
    "    \"\"\"\n",
    "    @param fname = filename\n",
    "    Returns = list of sentences, where each sentence is a list of POS tagged words\n",
    "    \"\"\"\n",
    "    f = open(fname, \"r\")\n",
    "    taggedSents = []\n",
    "    s = f.read()\n",
    "    s = unicode(s, errors=\"ignore\")\n",
    "    sentences = nltk.sent_tokenize(s)\n",
    "    for i in sentences:\n",
    "        taggedSents.append(nltk.pos_tag(nltk.word_tokenize(i)))\n",
    "    return taggedSents"
   ]
  },
  {
   "cell_type": "code",
   "execution_count": 18,
   "metadata": {},
   "outputs": [],
   "source": [
    "f = open(\"filename.txt\", \"r\")"
   ]
  },
  {
   "cell_type": "code",
   "execution_count": 19,
   "metadata": {},
   "outputs": [],
   "source": []
  },
  {
   "cell_type": "code",
   "execution_count": 20,
   "metadata": {},
   "outputs": [
    {
     "name": "stdout",
     "output_type": "stream",
     "text": [
      "shirish\n",
      "\n"
     ]
    }
   ],
   "source": [
    "#Read string from file\n",
    "s = f.read()\n",
    "s = unicode(s, errors=\"ignore\")\n",
    "#list of sentences\n",
    "sentences = nltk.sent_tokenize(s)\n",
    "#list of POS Tagged Sentences\n",
    "tagged_sentences = []\n",
    "for i in sentences:\n",
    "    tagged_sentences.append(nltk.pos_tag(nltk.word_tokenize(i)))\n",
    "df = featureset_df(tagged_sentences, 0, imp_cols)\n",
    "# Array of 0, 1 values\n",
    "predicted = model.predict(df)\n",
    "\n"
   ]
  },
  {
   "cell_type": "code",
   "execution_count": null,
   "metadata": {},
   "outputs": [],
   "source": []
  },
  {
   "cell_type": "code",
   "execution_count": 4,
   "metadata": {
    "autoscroll": false,
    "ein.tags": "worksheet-0",
    "slideshow": {
     "slide_type": "-"
    }
   },
   "outputs": [],
   "source": [
    "def featureset_df(taggedSents, value, imp_cols):\n",
    "    \"\"\"\n",
    "    This function returns a dataframe consisting of the imp_cols and target column after\n",
    "    removing the NaN values\n",
    "    @param taggedSents = list of sentences, where each sentence is a list of POS tagged words\n",
    "    @param value = Value given to the target column in the dataframe\n",
    "    Returns = dataframe with columns as imp_cols and target with value @param value\n",
    "    \"\"\"\n",
    "    sents1 = []\n",
    "    for i in taggedSents:\n",
    "        l = {}\n",
    "        for j in i:\n",
    "            if j[1].isalpha():\n",
    "                # If Noun\n",
    "                if False and j[1][0] == \"NNP\":# or j[1] == \"PRP\":\n",
    "                    l[\"NNP\"] = 1\n",
    "                else:\n",
    "                    l[j[1]] = 1\n",
    "        sents1.append(l)\n",
    "    df = pd.DataFrame(sents1)\n",
    "    df.fillna(0, inplace=True)\n",
    "    features = df[imp_cols]\n",
    "    #features = df\n",
    "    features[\"target\"] = value\n",
    "    return features"
   ]
  },
  {
   "cell_type": "markdown",
   "metadata": {},
   "source": [
    "## Important Columns\n",
    " * VB : Verb\n",
    " * VBD : Past Tense Verb\n",
    " * VBG : Gerund\n",
    " * VBN : Past Participle\n",
    " * VBP : Present Tense not 3rd person singular\n",
    " * VBZ : Present Tense 3rd person singular"
   ]
  },
  {
   "cell_type": "code",
   "execution_count": 5,
   "metadata": {
    "autoscroll": false,
    "ein.tags": "worksheet-0",
    "slideshow": {
     "slide_type": "-"
    }
   },
   "outputs": [],
   "source": [
    "def tagSentences():\n",
    "    \"\"\"\n",
    "    This function returns two tagged sentences list\n",
    "    ie List of non_anecdotal , list of anecdotal sentences\n",
    "    \"\"\"\n",
    "    taggedSents1 = tokenize(\n",
    "    fname_all_anecdotal_sents)\n",
    "    taggedSents0 = tokenize(\n",
    "    fname_all_non_anecdotal_sents)\n",
    "    return taggedSents0, taggedSents1\n",
    "    "
   ]
  },
  {
   "cell_type": "code",
   "execution_count": 6,
   "metadata": {},
   "outputs": [],
   "source": [
    "def create_feature_set_df(taggedSents0, taggedSents1):\n",
    "    \"\"\"\n",
    "    Call this function after calling tagSentences()\n",
    "    This function returns the features dataframe\n",
    "    \"\"\"\n",
    "    features0 = featureset_df(taggedSents0, 0, imp_cols)\n",
    "    if(taggedSents1 is not None):\n",
    "        features1 = featureset_df(taggedSents1, 1, imp_cols)\n",
    "        features = pd.concat([features1, features0])\n",
    "    else:\n",
    "        features = features0\n",
    "    return features\n",
    "    "
   ]
  },
  {
   "cell_type": "code",
   "execution_count": 7,
   "metadata": {},
   "outputs": [
    {
     "name": "stderr",
     "output_type": "stream",
     "text": [
      "/usr/local/lib/python2.7/dist-packages/ipykernel_launcher.py:24: SettingWithCopyWarning: \n",
      "A value is trying to be set on a copy of a slice from a DataFrame.\n",
      "Try using .loc[row_indexer,col_indexer] = value instead\n",
      "\n",
      "See the caveats in the documentation: http://pandas.pydata.org/pandas-docs/stable/indexing.html#indexing-view-versus-copy\n"
     ]
    }
   ],
   "source": [
    "TS0, TS1 = tagSentences()\n",
    "df = create_feature_set_df(TS0, TS1)\n"
   ]
  },
  {
   "cell_type": "code",
   "execution_count": 8,
   "metadata": {},
   "outputs": [
    {
     "data": {
      "text/html": [
       "<div>\n",
       "<style scoped>\n",
       "    .dataframe tbody tr th:only-of-type {\n",
       "        vertical-align: middle;\n",
       "    }\n",
       "\n",
       "    .dataframe tbody tr th {\n",
       "        vertical-align: top;\n",
       "    }\n",
       "\n",
       "    .dataframe thead th {\n",
       "        text-align: right;\n",
       "    }\n",
       "</style>\n",
       "<table border=\"1\" class=\"dataframe\">\n",
       "  <thead>\n",
       "    <tr style=\"text-align: right;\">\n",
       "      <th></th>\n",
       "      <th>POS</th>\n",
       "      <th>NNP</th>\n",
       "      <th>VBD</th>\n",
       "      <th>VBG</th>\n",
       "      <th>PRP</th>\n",
       "      <th>VBZ</th>\n",
       "      <th>target</th>\n",
       "    </tr>\n",
       "  </thead>\n",
       "  <tbody>\n",
       "    <tr>\n",
       "      <th>0</th>\n",
       "      <td>1.0</td>\n",
       "      <td>1.0</td>\n",
       "      <td>0.0</td>\n",
       "      <td>1.0</td>\n",
       "      <td>1.0</td>\n",
       "      <td>1.0</td>\n",
       "      <td>1</td>\n",
       "    </tr>\n",
       "  </tbody>\n",
       "</table>\n",
       "</div>"
      ],
      "text/plain": [
       "   POS  NNP  VBD  VBG  PRP  VBZ  target\n",
       "0  1.0  1.0  0.0  1.0  1.0  1.0       1"
      ]
     },
     "execution_count": 8,
     "metadata": {},
     "output_type": "execute_result"
    }
   ],
   "source": [
    "df.head(1)"
   ]
  },
  {
   "cell_type": "code",
   "execution_count": 146,
   "metadata": {},
   "outputs": [
    {
     "data": {
      "text/plain": [
       "0    825\n",
       "1    603\n",
       "Name: target, dtype: int64"
      ]
     },
     "execution_count": 146,
     "metadata": {},
     "output_type": "execute_result"
    }
   ],
   "source": [
    "df.target.value_counts()"
   ]
  },
  {
   "cell_type": "code",
   "execution_count": 203,
   "metadata": {},
   "outputs": [],
   "source": [
    "m1 = xgb.XGBClassifier(n_estimators=100)\n",
    "#m1 = SVC(kernel='linear')\n",
    "#m1 = retmodel([5, 5, 5, 1, 2, 5, 1])"
   ]
  },
  {
   "cell_type": "code",
   "execution_count": 204,
   "metadata": {},
   "outputs": [
    {
     "name": "stdout",
     "output_type": "stream",
     "text": [
      "CC\n",
      "DT\n",
      "NN\n",
      "PDT\n",
      "POS\n",
      "UH\n",
      "\n",
      "CC\n",
      "DT\n",
      "NN\n",
      "PDT\n",
      "POS\n",
      "UH\n",
      "\n",
      "CC\n",
      "DT\n",
      "NN\n",
      "PDT\n",
      "POS\n",
      "UH\n",
      "\n",
      "CC\n",
      "DT\n",
      "NN\n",
      "PDT\n",
      "POS\n",
      "UH\n",
      "\n",
      "CC\n",
      "DT\n",
      "NN\n",
      "PDT\n",
      "POS\n",
      "UH\n",
      "\n"
     ]
    }
   ],
   "source": [
    "for i in range(5):\n",
    "    #model = retmodel([5, 5, 5, 1, 2, 5, 1])\n",
    "    df = shuffle(df.copy())\n",
    "    rfe1 = RFE(m1,6)\n",
    "    rfe1 = rfe1.fit(df[[u'CC', u'CD', u'DT', u'EX',  u'IN', u'JJ', u'JJR', u'JJS', u'MD',\n",
    "           u'NN', u'NNP', u'NNPS', u'NNS', u'PDT', u'POS', u'PRP', u'RB', u'RBR',\n",
    "           u'RBS', u'RP', u'TO', u'UH', u'VB', u'VBD', u'VBG', u'VBN', u'VBP',\n",
    "           u'VBZ', u'WDT', u'WP', u'WRB']], df.target)\n",
    "    #rfe1 = rfe1.fit(df[imp_cols], df.target)\n",
    "    for k,v in enumerate(rfe1.ranking_):\n",
    "        if rfe1.support_[k]:\n",
    "            print df.columns[k]\n",
    "    print \"\""
   ]
  },
  {
   "cell_type": "code",
   "execution_count": 211,
   "metadata": {},
   "outputs": [],
   "source": [
    "#m2 = retmodel([5, 5, 5, 1, 2, 5, 1])\n",
    "m2 = xgb.XGBClassifier(n_estimators=100)"
   ]
  },
  {
   "cell_type": "code",
   "execution_count": 212,
   "metadata": {},
   "outputs": [
    {
     "data": {
      "text/plain": [
       "0.6503496503496503"
      ]
     },
     "execution_count": 212,
     "metadata": {},
     "output_type": "execute_result"
    }
   ],
   "source": [
    "m2.fit(X_train, y_train)\n",
    "predicted = m2.predict(X_test)\n",
    "accuracy_score(predicted, y_test)"
   ]
  },
  {
   "cell_type": "code",
   "execution_count": 120,
   "metadata": {},
   "outputs": [
    {
     "data": {
      "text/plain": [
       "array([ 1,  9,  1, 25, 20, 10,  7, 23, 14, 27,  1, 28, 18,  8,  2,  4, 11,\n",
       "       24, 22, 12, 21, 29,  3,  6, 17, 19, 13,  5, 16, 26, 15])"
      ]
     },
     "execution_count": 120,
     "metadata": {},
     "output_type": "execute_result"
    }
   ],
   "source": [
    "rfe1.ranking_"
   ]
  },
  {
   "cell_type": "code",
   "execution_count": 121,
   "metadata": {},
   "outputs": [
    {
     "data": {
      "text/plain": [
       "array([ True, False,  True, False, False, False, False, False, False,\n",
       "       False,  True, False, False, False, False, False, False, False,\n",
       "       False, False, False, False, False, False, False, False, False,\n",
       "       False, False, False, False])"
      ]
     },
     "execution_count": 121,
     "metadata": {},
     "output_type": "execute_result"
    }
   ],
   "source": [
    "rfe1.support_"
   ]
  },
  {
   "cell_type": "code",
   "execution_count": 122,
   "metadata": {},
   "outputs": [],
   "source": [
    "#for k,v in enumerate(df.columns):\n",
    "#    print k,v"
   ]
  },
  {
   "cell_type": "code",
   "execution_count": 123,
   "metadata": {},
   "outputs": [
    {
     "name": "stdout",
     "output_type": "stream",
     "text": [
      "0 CC\n",
      "2 DT\n",
      "10 NN\n"
     ]
    }
   ],
   "source": []
  },
  {
   "cell_type": "code",
   "execution_count": 15,
   "metadata": {},
   "outputs": [],
   "source": [
    "df = shuffle(df)\n",
    "#X_train, X_test, y_train, y_test = train_test_split(df[[u'CC', u'CD', u'DT', u'EX',  u'IN', u'JJ', u'JJR', u'JJS', u'MD',\n",
    "#       u'NN', u'NNP', u'NNPS', u'NNS', u'PDT', u'POS', u'PRP', u'RB', u'RBR',\n",
    "#       u'RBS', u'RP', u'TO', u'UH', u'VB', u'VBD', u'VBG', u'VBN', u'VBP',\n",
    "#       u'VBZ', u'WDT', u'WP', u'WRB']], df[\"target\"], test_size=0.25)\n",
    "X_train, X_test, y_train, y_test = train_test_split(df[imp_cols], df[\"target\"], test_size=0.1)"
   ]
  },
  {
   "cell_type": "code",
   "execution_count": 163,
   "metadata": {},
   "outputs": [
    {
     "name": "stdout",
     "output_type": "stream",
     "text": [
      "0.7030812324929971\n"
     ]
    },
    {
     "data": {
      "text/plain": [
       "<matplotlib.axes._subplots.AxesSubplot at 0x7f53492e97d0>"
      ]
     },
     "execution_count": 163,
     "metadata": {},
     "output_type": "execute_result"
    },
    {
     "data": {
      "image/png": "[encoded data removed]",
      "text/plain": [
       "<matplotlib.figure.Figure at 0x7f534c666ed0>"
      ]
     },
     "metadata": {},
     "output_type": "display_data"
    }
   ],
   "source": [
    "import xgboost as xgb\n",
    "xgm = xgb.XGBClassifier()\n",
    "xgm = xgm.fit(X_train, y_train)\n",
    "print xgm.score(X_test, y_test)\n",
    "xgb.plot_importance(xgm)"
   ]
  },
  {
   "cell_type": "code",
   "execution_count": 117,
   "metadata": {},
   "outputs": [],
   "source": [
    "def svm_eval(X_train, y_train, X_test, y_test):\n",
    "    model = SVC(kernel='rbf')\n",
    "    model.fit(X_train, y_train)\n",
    "    return model\n",
    "    #predicted = model.predict(X_test)\n",
    "    #print accuracy_score(predicted, y_test)"
   ]
  },
  {
   "cell_type": "code",
   "execution_count": 118,
   "metadata": {},
   "outputs": [
    {
     "ename": "NameError",
     "evalue": "name 'nplm' is not defined",
     "output_type": "error",
     "traceback": [
      "\u001b[0;31m---------------------------------------------------------------------------\u001b[0m",
      "\u001b[0;31mNameError\u001b[0m                                 Traceback (most recent call last)",
      "\u001b[0;32m<ipython-input-118-54b9c580bd91>\u001b[0m in \u001b[0;36m<module>\u001b[0;34m()\u001b[0m\n\u001b[1;32m      4\u001b[0m     \u001b[0mX_train\u001b[0m\u001b[0;34m,\u001b[0m \u001b[0mX_test\u001b[0m\u001b[0;34m,\u001b[0m \u001b[0my_train\u001b[0m\u001b[0;34m,\u001b[0m \u001b[0my_test\u001b[0m \u001b[0;34m=\u001b[0m \u001b[0mtrain_test_split\u001b[0m\u001b[0;34m(\u001b[0m\u001b[0mdf\u001b[0m\u001b[0;34m[\u001b[0m\u001b[0mimp_cols\u001b[0m\u001b[0;34m]\u001b[0m\u001b[0;34m,\u001b[0m \u001b[0mdf\u001b[0m\u001b[0;34m[\u001b[0m\u001b[0;34m\"target\"\u001b[0m\u001b[0;34m]\u001b[0m\u001b[0;34m,\u001b[0m \u001b[0mtest_size\u001b[0m\u001b[0;34m=\u001b[0m\u001b[0;36m0.25\u001b[0m\u001b[0;34m)\u001b[0m\u001b[0;34m\u001b[0m\u001b[0m\n\u001b[1;32m      5\u001b[0m     \u001b[0ma\u001b[0m \u001b[0;34m=\u001b[0m \u001b[0msvm_eval\u001b[0m\u001b[0;34m(\u001b[0m\u001b[0mX_train\u001b[0m\u001b[0;34m,\u001b[0m \u001b[0my_train\u001b[0m\u001b[0;34m,\u001b[0m \u001b[0mX_test\u001b[0m\u001b[0;34m,\u001b[0m \u001b[0my_test\u001b[0m\u001b[0;34m)\u001b[0m\u001b[0;34m\u001b[0m\u001b[0m\n\u001b[0;32m----> 6\u001b[0;31m     \u001b[0mnplm\u001b[0m\u001b[0;34m\u001b[0m\u001b[0m\n\u001b[0m",
      "\u001b[0;31mNameError\u001b[0m: name 'nplm' is not defined"
     ]
    }
   ],
   "source": [
    "for i in range(20):\n",
    "    global df\n",
    "    df = shuffle(df)\n",
    "    X_train, X_test, y_train, y_test = train_test_split(df[imp_cols], df[\"target\"], test_size=0.25)\n",
    "    a = svm_eval(X_train, y_train, X_test, y_test)\n",
    "    nplm"
   ]
  },
  {
   "cell_type": "code",
   "execution_count": 151,
   "metadata": {},
   "outputs": [],
   "source": [
    "def rf_eval(X_train, y_train, X_test, y_test):\n",
    "    model = RandomForestClassifier(n_estimators=100)\n",
    "    model.fit(X_train, y_train)\n",
    "   "
   ]
  },
  {
   "cell_type": "code",
   "execution_count": 152,
   "metadata": {},
   "outputs": [],
   "source": [
    "rf_eval(X_train, y_train, X_test, y_test)"
   ]
  },
  {
   "cell_type": "code",
   "execution_count": 153,
   "metadata": {},
   "outputs": [
    {
     "data": {
      "text/plain": [
       "0.7366946778711485"
      ]
     },
     "execution_count": 153,
     "metadata": {},
     "output_type": "execute_result"
    }
   ],
   "source": [
    "model = DecisionTreeClassifier()\n",
    "model.fit(X_train, y_train)\n",
    "predicted = model.predict(X_test)\n",
    "accuracy_score(predicted, y_test)\n"
   ]
  },
  {
   "cell_type": "code",
   "execution_count": 154,
   "metadata": {},
   "outputs": [
    {
     "data": {
      "text/plain": [
       "array([0.24685267, 0.02821757, 0.60115681, 0.03429555, 0.0485749 ,\n",
       "       0.0409025 ])"
      ]
     },
     "execution_count": 154,
     "metadata": {},
     "output_type": "execute_result"
    }
   ],
   "source": [
    "model.feature_importances_"
   ]
  },
  {
   "cell_type": "code",
   "execution_count": 155,
   "metadata": {},
   "outputs": [],
   "source": [
    "model = VotingClassifier(estimators=[('SVM', SVC()),\n",
    "                                     ('XGB', xgb.XGBClassifier()),\n",
    "                                     ('RF', RandomForestClassifier())\n",
    "                                    ])"
   ]
  },
  {
   "cell_type": "code",
   "execution_count": 124,
   "metadata": {},
   "outputs": [
    {
     "data": {
      "text/plain": [
       "VotingClassifier(estimators=[('SVM', SVC(C=1.0, cache_size=200, class_weight=None, coef0=0.0,\n",
       "  decision_function_shape='ovr', degree=3, gamma='auto', kernel='rbf',\n",
       "  max_iter=-1, probability=False, random_state=None, shrinking=True,\n",
       "  tol=0.001, verbose=False)), ('XGB', XGBClassifier(base_score=0.5, booster='gbtree...n_jobs=1,\n",
       "            oob_score=False, random_state=None, verbose=0,\n",
       "            warm_start=False))],\n",
       "         flatten_transform=None, n_jobs=1, voting='hard', weights=None)"
      ]
     },
     "execution_count": 124,
     "metadata": {},
     "output_type": "execute_result"
    }
   ],
   "source": [
    "model.fit(X_train, y_train)"
   ]
  },
  {
   "cell_type": "code",
   "execution_count": 125,
   "metadata": {},
   "outputs": [
    {
     "data": {
      "text/plain": [
       "0.7067510548523207"
      ]
     },
     "execution_count": 125,
     "metadata": {},
     "output_type": "execute_result"
    }
   ],
   "source": [
    "model.score(X_test, y_test)"
   ]
  },
  {
   "cell_type": "code",
   "execution_count": 126,
   "metadata": {},
   "outputs": [],
   "source": [
    "l = [\n",
    "    [],\n",
    "    [],\n",
    "    [],\n",
    "    [],\n",
    "]"
   ]
  },
  {
   "cell_type": "code",
   "execution_count": 10,
   "metadata": {},
   "outputs": [],
   "source": [
    "import warnings\n",
    "warnings.filterwarnings('ignore')"
   ]
  },
  {
   "cell_type": "code",
   "execution_count": 11,
   "metadata": {},
   "outputs": [],
   "source": [
    "wlist = [[ 4 , 4 , 4 , 0 , 1 , 4 , 1 ],\n",
    "[ 1 , 4 , 2 , 0 , 1 , 4 , 2 ],\n",
    "[ 4 , 4 , 4 , 0 , 1 , 5 , 1 ],\n",
    "[ 4 , 4 , 4 , 0 , 1 , 5 , 2 ],\n",
    "[ 4 , 4 , 4 , 0 , 2 , 4 , 1 ],\n",
    "[ 4 , 4 , 4 , 0 , 2 , 4 , 2 ],\n",
    "[ 4 , 4 , 4 , 0 , 2 , 5 , 1 ],\n",
    "[ 4 , 4 , 4 , 0 , 2 , 5 , 2 ]]"
   ]
  },
  {
   "cell_type": "code",
   "execution_count": 12,
   "metadata": {},
   "outputs": [],
   "source": [
    "wtslist = [[ 4 , 4 , 4 , 0 , 1 , 4 , 1 ],\n",
    "[ 4 , 4 , 4 , 0 , 1 , 4 , 2 ],\n",
    "[ 4 , 4 , 4 , 0 , 1 , 5 , 1 ],\n",
    "[ 4 , 4 , 4 , 0 , 1 , 5 , 2 ],\n",
    "[ 4 , 4 , 4 , 0 , 2 , 4 , 1 ],\n",
    "[ 4 , 4 , 4 , 0 , 2 , 4 , 2 ],\n",
    "[ 4 , 4 , 4 , 0 , 2 , 5 , 1 ],\n",
    "[ 4 , 4 , 4 , 0 , 2 , 5 , 2 ],\n",
    "[ 4 , 4 , 4 , 1 , 1 , 4 , 1 ],\n",
    "[ 4 , 4 , 4 , 1 , 1 , 4 , 2 ],\n",
    "[ 4 , 4 , 4 , 1 , 1 , 5 , 1 ],\n",
    "[ 4 , 4 , 4 , 1 , 1 , 5 , 2 ],\n",
    "[ 4 , 4 , 4 , 1 , 2 , 4 , 1 ],\n",
    "[ 4 , 4 , 4 , 1 , 2 , 4 , 2 ],\n",
    "[ 4 , 4 , 4 , 1 , 2 , 5 , 1 ],\n",
    "[ 4 , 4 , 4 , 1 , 2 , 5 , 2 ],\n",
    "[ 4 , 4 , 5 , 0 , 1 , 4 , 1 ],\n",
    "[ 4 , 4 , 5 , 0 , 1 , 4 , 2 ],\n",
    "[ 4 , 4 , 5 , 0 , 1 , 5 , 1 ],\n",
    "[ 4 , 4 , 5 , 0 , 1 , 5 , 2 ],\n",
    "[ 4 , 4 , 5 , 0 , 2 , 4 , 1 ],\n",
    "[ 4 , 4 , 5 , 0 , 2 , 4 , 2 ],\n",
    "[ 4 , 4 , 5 , 0 , 2 , 5 , 1 ],\n",
    "[ 4 , 4 , 5 , 0 , 2 , 5 , 2 ],\n",
    "[ 4 , 4 , 5 , 1 , 1 , 4 , 1 ],\n",
    "[ 4 , 4 , 5 , 1 , 1 , 4 , 2 ],\n",
    "[ 4 , 4 , 5 , 1 , 1 , 5 , 1 ],\n",
    "[ 4 , 4 , 5 , 1 , 1 , 5 , 2 ],\n",
    "[ 4 , 4 , 5 , 1 , 2 , 4 , 1 ],\n",
    "[ 4 , 4 , 5 , 1 , 2 , 4 , 2 ],\n",
    "[ 4 , 4 , 5 , 1 , 2 , 5 , 1 ],\n",
    "[ 4 , 4 , 5 , 1 , 2 , 5 , 2 ],\n",
    "[ 4 , 5 , 4 , 0 , 1 , 4 , 1 ],\n",
    "[ 4 , 5 , 4 , 0 , 1 , 4 , 2 ],\n",
    "[ 4 , 5 , 4 , 0 , 1 , 5 , 1 ],\n",
    "[ 4 , 5 , 4 , 0 , 1 , 5 , 2 ],\n",
    "[ 4 , 5 , 4 , 0 , 2 , 4 , 1 ],\n",
    "[ 4 , 5 , 4 , 0 , 2 , 4 , 2 ],\n",
    "[ 4 , 5 , 4 , 0 , 2 , 5 , 1 ],\n",
    "[ 4 , 5 , 4 , 0 , 2 , 5 , 2 ],\n",
    "[ 4 , 5 , 4 , 1 , 1 , 4 , 1 ],\n",
    "[ 4 , 5 , 4 , 1 , 1 , 4 , 2 ],\n",
    "[ 4 , 5 , 4 , 1 , 1 , 5 , 1 ],\n",
    "[ 4 , 5 , 4 , 1 , 1 , 5 , 2 ],\n",
    "[ 4 , 5 , 4 , 1 , 2 , 4 , 1 ],\n",
    "[ 4 , 5 , 4 , 1 , 2 , 4 , 2 ],\n",
    "[ 4 , 5 , 4 , 1 , 2 , 5 , 1 ],\n",
    "[ 4 , 5 , 4 , 1 , 2 , 5 , 2 ],\n",
    "[ 4 , 5 , 5 , 0 , 1 , 4 , 1 ],\n",
    "[ 4 , 5 , 5 , 0 , 1 , 4 , 2 ],\n",
    "[ 4 , 5 , 5 , 0 , 1 , 5 , 1 ],\n",
    "[ 4 , 5 , 5 , 0 , 1 , 5 , 2 ],\n",
    "[ 4 , 5 , 5 , 0 , 2 , 4 , 1 ],\n",
    "[ 4 , 5 , 5 , 0 , 2 , 4 , 2 ],\n",
    "[ 4 , 5 , 5 , 0 , 2 , 5 , 1 ],\n",
    "[ 4 , 5 , 5 , 0 , 2 , 5 , 2 ],\n",
    "[ 4 , 5 , 5 , 1 , 1 , 4 , 1 ],\n",
    "[ 4 , 5 , 5 , 1 , 1 , 4 , 2 ],\n",
    "[ 4 , 5 , 5 , 1 , 1 , 5 , 1 ],\n",
    "[ 4 , 5 , 5 , 1 , 1 , 5 , 2 ],\n",
    "[ 4 , 5 , 5 , 1 , 2 , 4 , 1 ],\n",
    "[ 4 , 5 , 5 , 1 , 2 , 4 , 2 ],\n",
    "[ 4 , 5 , 5 , 1 , 2 , 5 , 1 ],\n",
    "[ 4 , 5 , 5 , 1 , 2 , 5 , 2 ],\n",
    "[ 5 , 4 , 4 , 0 , 1 , 4 , 1 ],\n",
    "[ 5 , 4 , 4 , 0 , 1 , 4 , 2 ],\n",
    "[ 5 , 4 , 4 , 0 , 1 , 5 , 1 ],\n",
    "[ 5 , 4 , 4 , 0 , 1 , 5 , 2 ],\n",
    "[ 5 , 4 , 4 , 0 , 2 , 4 , 1 ],\n",
    "[ 5 , 4 , 4 , 0 , 2 , 4 , 2 ],\n",
    "[ 5 , 4 , 4 , 0 , 2 , 5 , 1 ],\n",
    "[ 5 , 4 , 4 , 0 , 2 , 5 , 2 ],\n",
    "[ 5 , 4 , 4 , 1 , 1 , 4 , 1 ],\n",
    "[ 5 , 4 , 4 , 1 , 1 , 4 , 2 ],\n",
    "[ 5 , 4 , 4 , 1 , 1 , 5 , 1 ],\n",
    "[ 5 , 4 , 4 , 1 , 1 , 5 , 2 ],\n",
    "[ 5 , 4 , 4 , 1 , 2 , 4 , 1 ],\n",
    "[ 5 , 4 , 4 , 1 , 2 , 4 , 2 ],\n",
    "[ 5 , 4 , 4 , 1 , 2 , 5 , 1 ],\n",
    "[ 5 , 4 , 4 , 1 , 2 , 5 , 2 ],\n",
    "[ 5 , 4 , 5 , 0 , 1 , 4 , 1 ],\n",
    "[ 5 , 4 , 5 , 0 , 1 , 4 , 2 ],\n",
    "[ 5 , 4 , 5 , 0 , 1 , 5 , 1 ],\n",
    "[ 5 , 4 , 5 , 0 , 1 , 5 , 2 ],\n",
    "[ 5 , 4 , 5 , 0 , 2 , 4 , 1 ],\n",
    "[ 5 , 4 , 5 , 0 , 2 , 4 , 2 ],\n",
    "[ 5 , 4 , 5 , 0 , 2 , 5 , 1 ],\n",
    "[ 5 , 4 , 5 , 0 , 2 , 5 , 2 ],\n",
    "[ 5 , 4 , 5 , 1 , 1 , 4 , 1 ],\n",
    "[ 5 , 4 , 5 , 1 , 1 , 4 , 2 ],\n",
    "[ 5 , 4 , 5 , 1 , 1 , 5 , 1 ],\n",
    "[ 5 , 4 , 5 , 1 , 1 , 5 , 2 ],\n",
    "[ 5 , 4 , 5 , 1 , 2 , 4 , 1 ],\n",
    "[ 5 , 4 , 5 , 1 , 2 , 4 , 2 ],\n",
    "[ 5 , 4 , 5 , 1 , 2 , 5 , 1 ],\n",
    "[ 5 , 4 , 5 , 1 , 2 , 5 , 2 ],\n",
    "[ 5 , 5 , 4 , 0 , 1 , 4 , 1 ],\n",
    "[ 5 , 5 , 4 , 0 , 1 , 4 , 2 ],\n",
    "[ 5 , 5 , 4 , 0 , 1 , 5 , 1 ],\n",
    "[ 5 , 5 , 4 , 0 , 1 , 5 , 2 ],\n",
    "[ 5 , 5 , 4 , 0 , 2 , 4 , 1 ],\n",
    "[ 5 , 5 , 4 , 0 , 2 , 4 , 2 ],\n",
    "[ 5 , 5 , 4 , 0 , 2 , 5 , 1 ],\n",
    "[ 5 , 5 , 4 , 0 , 2 , 5 , 2 ],\n",
    "[ 5 , 5 , 4 , 1 , 1 , 4 , 1 ],\n",
    "[ 5 , 5 , 4 , 1 , 1 , 4 , 2 ],\n",
    "[ 5 , 5 , 4 , 1 , 1 , 5 , 1 ],\n",
    "[ 5 , 5 , 4 , 1 , 1 , 5 , 2 ],\n",
    "[ 5 , 5 , 4 , 1 , 2 , 4 , 1 ],\n",
    "[ 5 , 5 , 4 , 1 , 2 , 4 , 2 ],\n",
    "[ 5 , 5 , 4 , 1 , 2 , 5 , 1 ],\n",
    "[ 5 , 5 , 4 , 1 , 2 , 5 , 2 ],\n",
    "[ 5 , 5 , 5 , 0 , 1 , 4 , 1 ],\n",
    "[ 5 , 5 , 5 , 0 , 1 , 4 , 2 ],\n",
    "[ 5 , 5 , 5 , 0 , 1 , 5 , 1 ],\n",
    "[ 5 , 5 , 5 , 0 , 1 , 5 , 2 ],\n",
    "[ 5 , 5 , 5 , 0 , 2 , 4 , 1 ],\n",
    "[ 5 , 5 , 5 , 0 , 2 , 4 , 2 ],\n",
    "[ 5 , 5 , 5 , 0 , 2 , 5 , 1 ],\n",
    "[ 5 , 5 , 5 , 0 , 2 , 5 , 2 ],\n",
    "[ 5 , 5 , 5 , 1 , 1 , 4 , 1 ],\n",
    "[ 5 , 5 , 5 , 1 , 1 , 4 , 2 ],\n",
    "[ 5 , 5 , 5 , 1 , 1 , 5 , 1 ],\n",
    "[ 5 , 5 , 5 , 1 , 1 , 5 , 2 ],\n",
    "[ 5 , 5 , 5 , 1 , 2 , 4 , 1 ],\n",
    "[ 5 , 5 , 5 , 1 , 2 , 4 , 2 ],\n",
    "[ 5 , 5 , 5 , 1 , 2 , 5 , 1 ],\n",
    "[ 5 , 5 , 5 , 1 , 2 , 5 , 2 ]]"
   ]
  },
  {
   "cell_type": "code",
   "execution_count": 227,
   "metadata": {
    "scrolled": false
   },
   "outputs": [
    {
     "name": "stdout",
     "output_type": "stream",
     "text": [
      "Ensemble 0.7310924369747899\n",
      "\n",
      "Ensemble 0.7058823529411765\n",
      "\n",
      "Ensemble 0.7226890756302521\n",
      "\n",
      "Ensemble 0.7366946778711485\n",
      "\n",
      "Ensemble 0.7226890756302521\n",
      "\n",
      "Ensemble 0.6974789915966386\n",
      "\n",
      "Ensemble 0.6974789915966386\n",
      "\n",
      "Ensemble 0.7478991596638656\n",
      "\n",
      "Ensemble 0.7254901960784313\n",
      "\n",
      "Ensemble 0.6918767507002801\n",
      "\n"
     ]
    }
   ],
   "source": [
    "d2 = {}\n",
    "for i in range(10):\n",
    "    df = shuffle(df)\n",
    "    X_train, X_test, y_train, y_test = train_test_split(df[imp_cols], df[\"target\"], test_size=0.25)\n",
    "    model = retmodel([5, 5, 5, 1, 2, 5, 1])\n",
    "    model = model.fit(X_train, y_train)\n",
    "    predicted = model.predict(X_test)\n",
    "    l1 = accuracy_score(predicted, y_test)\n",
    "    #l.append(l1)\n",
    "    #if d2.get(k1) is None:\n",
    "    #    d2[k1] = [l1]\n",
    "    #else:\n",
    "    #    d2[k1].append(l1)\n",
    "    #print k1, d2[k1], j\n",
    "    eval1(SVC(), \"SVM\", X_train, y_train, X_test, y_test)\n",
    "    eval1(xgb.XGBClassifier(), \"XGB\", X_train, y_train, X_test, y_test)\n",
    "    eval1(LogisticRegression(), \"LogisticRegression()\", X_train, y_train, X_test, y_test)\n",
    "    eval1(ExtraTreesClassifier(n_estimators=100), \"ExtraTreesClassifier(n_estimators=100)\", X_train, y_train, X_test, y_test)\n",
    "    eval1(RandomForestClassifier(n_estimators=100), \"RandomForest\", X_train, y_train, X_test, y_test)\n",
    "    eval1(AdaBoostClassifier(n_estimators=100), \"AdaBoostClassifier(n_estimators=100)\", X_train, y_train, X_test, y_test)\n",
    "    eval1(MultinomialNB(), \"MultinomialNB()\", X_train, y_train, X_test, y_test)\n",
    "    print \"Ensemble\", l1\n",
    "    print \"\"\n",
    "#print np.mean(l)\n",
    "#print np.max(l)\n",
    "#print np.std(l)"
   ]
  },
  {
   "cell_type": "code",
   "execution_count": 228,
   "metadata": {},
   "outputs": [
    {
     "name": "stdout",
     "output_type": "stream",
     "text": [
      "SVC 0.7132867132867133\n",
      "SVC 0.6923076923076923\n",
      "SVC 0.6713286713286714\n",
      "SVC 0.7412587412587412\n",
      "SVC 0.6363636363636364\n",
      "SVC 0.7062937062937062\n",
      "SVC 0.7272727272727273\n",
      "SVC 0.7412587412587412\n",
      "SVC 0.6783216783216783\n",
      "SVC 0.7202797202797203\n"
     ]
    },
    {
     "ename": "IndexError",
     "evalue": "list index out of range",
     "output_type": "error",
     "traceback": [
      "\u001b[0;31m---------------------------------------------------------------------------\u001b[0m",
      "\u001b[0;31mIndexError\u001b[0m                                Traceback (most recent call last)",
      "\u001b[0;32m<ipython-input-228-58b8e688c4f7>\u001b[0m in \u001b[0;36m<module>\u001b[0;34m()\u001b[0m\n\u001b[1;32m     12\u001b[0m     \u001b[0mdf\u001b[0m \u001b[0;34m=\u001b[0m \u001b[0mshuffle\u001b[0m\u001b[0;34m(\u001b[0m\u001b[0mdf\u001b[0m\u001b[0;34m)\u001b[0m\u001b[0;34m\u001b[0m\u001b[0m\n\u001b[1;32m     13\u001b[0m     \u001b[0mX_train\u001b[0m\u001b[0;34m,\u001b[0m \u001b[0mX_test\u001b[0m\u001b[0;34m,\u001b[0m \u001b[0my_train\u001b[0m\u001b[0;34m,\u001b[0m \u001b[0my_test\u001b[0m \u001b[0;34m=\u001b[0m \u001b[0mtrain_test_split\u001b[0m\u001b[0;34m(\u001b[0m\u001b[0mdf\u001b[0m\u001b[0;34m[\u001b[0m\u001b[0mimp_cols\u001b[0m\u001b[0;34m]\u001b[0m\u001b[0;34m,\u001b[0m \u001b[0mdf\u001b[0m\u001b[0;34m[\u001b[0m\u001b[0;34m\"target\"\u001b[0m\u001b[0;34m]\u001b[0m\u001b[0;34m,\u001b[0m \u001b[0mtest_size\u001b[0m\u001b[0;34m=\u001b[0m\u001b[0;36m0.10\u001b[0m\u001b[0;34m)\u001b[0m\u001b[0;34m\u001b[0m\u001b[0m\n\u001b[0;32m---> 14\u001b[0;31m     \u001b[0mm1\u001b[0m \u001b[0;34m=\u001b[0m \u001b[0msvmlist\u001b[0m\u001b[0;34m[\u001b[0m\u001b[0mi\u001b[0m\u001b[0;34m]\u001b[0m\u001b[0;34m\u001b[0m\u001b[0m\n\u001b[0m\u001b[1;32m     15\u001b[0m     \u001b[0mm2\u001b[0m \u001b[0;34m=\u001b[0m \u001b[0menslist\u001b[0m\u001b[0;34m[\u001b[0m\u001b[0mi\u001b[0m\u001b[0;34m]\u001b[0m\u001b[0;34m\u001b[0m\u001b[0m\n\u001b[1;32m     16\u001b[0m     \u001b[0mm1\u001b[0m \u001b[0;34m=\u001b[0m \u001b[0mm1\u001b[0m\u001b[0;34m.\u001b[0m\u001b[0mfit\u001b[0m\u001b[0;34m(\u001b[0m\u001b[0mX_train\u001b[0m\u001b[0;34m,\u001b[0m \u001b[0my_train\u001b[0m\u001b[0;34m)\u001b[0m\u001b[0;34m\u001b[0m\u001b[0m\n",
      "\u001b[0;31mIndexError\u001b[0m: list index out of range"
     ]
    }
   ],
   "source": [
    "svmlist = [SVC() for i in range(10)]\n",
    "enslist = [VotingClassifier(estimators=[('SVM', SVC(kernel='rbf')),\n",
    "                                     ('XGB', xgb.XGBClassifier()),\n",
    "                                         ('LG', LogisticRegression()),\n",
    "                                         ('ExtraT', ExtraTreesClassifier(n_estimators=100)),\n",
    "                                     ('RF', RandomForestClassifier(n_estimators=100)),\n",
    "                                ('Ada', AdaBoostClassifier(n_estimators=100)),\n",
    "                                    ('NB', MultinomialNB())\n",
    "                                        ], weights=[5, 5, 5, 1, 2, 5, 1]) for j in range(10)]\n",
    "d5 = {}\n",
    "for i in range(20):\n",
    "    df = shuffle(df)\n",
    "    X_train, X_test, y_train, y_test = train_test_split(df[imp_cols], df[\"target\"], test_size=0.10)\n",
    "    m1 = svmlist[i]\n",
    "    m2 = enslist[i]\n",
    "    m1 = m1.fit(X_train, y_train)\n",
    "    m2 = m2.fit(X_train, y_train)\n",
    "    predicted1 = m1.predict(X_test)\n",
    "    predicted2 = m2.predict(X_test)\n",
    "    print \"SVC\", accuracy_score(predicted1, y_test)\n",
    "    x1 = eval1(xgb.XGBClassifier(), \"XGB\", X_train, y_train, X_test, y_test)\n",
    "    lr = eval1(LogisticRegression(), \"LogisticRegression()\", X_train, y_train, X_test, y_test)\n",
    "    extT = eval1(ExtraTreesClassifier(n_estimators=100), \"ExtraTreesClassifier(n_estimators=100)\", X_train, y_train, X_test, y_test)\n",
    "    rf1 = eval1(RandomForestClassifier(n_estimators=100), \"RandomForest\", X_train, y_train, X_test, y_test)\n",
    "    adab1 = eval1(AdaBoostClassifier(n_estimators=100), \"AdaBoostClassifier(n_estimators=100)\", X_train, y_train, X_test, y_test)\n",
    "    mnb = eval1(MultinomialNB(), \"MultinomialNB()\", X_train, y_train, X_test, y_test)\n",
    "    ens1 =  accuracy_score(predicted2, y_test)\n",
    "    \n",
    "    \n",
    "#print np.mean(l)\n",
    "#print np.max(l)\n",
    "#print np.std(l)"
   ]
  },
  {
   "cell_type": "code",
   "execution_count": 245,
   "metadata": {
    "scrolled": false
   },
   "outputs": [
    {
     "name": "stdout",
     "output_type": "stream",
     "text": [
      "0.7777777777777778\n",
      "0.7361111111111112\n",
      "0.8194444444444444\n",
      "Accuracy of SVM:  0.8194444444444444\n",
      "Precision of SVM:  0.6333333333333333\n",
      "Recall of SVM:  0.9047619047619048\n",
      "F1-score of SVM:  0.7450980392156863\n",
      "SVM Confusion Matrix:  [[40 11]\n",
      " [ 2 19]]\n",
      "Accuracy of XGB:  0.8333333333333334\n",
      "Precision of XGB:  0.6\n",
      "Recall of XGB:  1.0\n",
      "F1-score of XGB:  0.7499999999999999\n",
      "XGB Confusion Matrix:  [[42 12]\n",
      " [ 0 18]]\n",
      "Accuracy of LG:  0.8194444444444444\n",
      "Precision of LG:  0.6333333333333333\n",
      "Recall of LG:  0.9047619047619048\n",
      "F1-score of LG:  0.7450980392156863\n",
      "LG Confusion Matrix:  [[40 11]\n",
      " [ 2 19]]\n",
      "Accuracy of ExtraT:  0.8333333333333334\n",
      "Precision of ExtraT:  0.6\n",
      "Recall of ExtraT:  1.0\n",
      "F1-score of ExtraT:  0.7499999999999999\n",
      "ExtraT Confusion Matrix:  [[42 12]\n",
      " [ 0 18]]\n",
      "Accuracy of RandomF:  0.8333333333333334\n",
      "Precision of RandomF:  0.6\n",
      "Recall of RandomF:  1.0\n",
      "F1-score of RandomF:  0.7499999999999999\n",
      "RandomF Confusion Matrix:  [[42 12]\n",
      " [ 0 18]]\n",
      "Accuracy of ADA:  0.8194444444444444\n",
      "Precision of ADA:  0.6333333333333333\n",
      "Recall of ADA:  0.9047619047619048\n",
      "F1-score of ADA:  0.7450980392156863\n",
      "ADA Confusion Matrix:  [[40 11]\n",
      " [ 2 19]]\n",
      "Accuracy of NB:  0.8055555555555556\n",
      "Precision of NB:  0.5333333333333333\n",
      "Recall of NB:  1.0\n",
      "F1-score of NB:  0.6956521739130436\n",
      "NB Confusion Matrix:  [[42 14]\n",
      " [ 0 16]]\n",
      "Accuracy of VC:  0.8194444444444444\n",
      "Precision of VC:  0.6333333333333333\n",
      "Recall of VC:  0.9047619047619048\n",
      "F1-score of VC:  0.7450980392156863\n",
      "VC Confusion Matrix:  [[40 11]\n",
      " [ 2 19]]\n"
     ]
    }
   ],
   "source": [
    "while True:\n",
    "    df = shuffle(df)\n",
    "    X_train, X_test, y_train, y_test = train_test_split(df[imp_cols], df[\"target\"], test_size=0.10)\n",
    "    #svcacc, svcpred1 = eval1(SVC(kernel='rbf'), \"SVC\", X_train, y_train, X_test, y_test)\n",
    "    #xgbacc, xgbpred1 = eval1(xgb.XGBClassifier(n_estimators=100), \"XGB\", X_train, y_train, X_test, y_test)\n",
    "    #lgacc, lgpred1 = eval1(LogisticRegression(), \"LG\", X_train, y_train, X_test, y_test)\n",
    "    #extacc, extpred1 = eval1(ExtraTreesClassifier(n_estimators=100), \"ExtraT\", X_train, y_train, X_test, y_test)\n",
    "    #rfacc, rfpred1 = eval1(RandomForestClassifier(n_estimators=100), \"RandomForest\", X_train, y_train, X_test, y_test)\n",
    "    #adaacc, adapred1 = eval1(AdaBoostClassifier(n_estimators=100), \"ADA\", X_train, y_train, X_test, y_test)\n",
    "    #mnbacc, mnbpred1 = eval1(MultinomialNB(), \"MNBayes\", X_train, y_train, X_test, y_test)\n",
    "    vcacc, vcpred1 = eval1(VotingClassifier(estimators=[('SVM', SVC(kernel='rbf')),\n",
    "                                     ('XGB', xgb.XGBClassifier()),\n",
    "                                     ('LG', LogisticRegression()),\n",
    "                                     ('ExtraT', ExtraTreesClassifier(n_estimators=100)),\n",
    "                                     ('RF', RandomForestClassifier(n_estimators=100)),\n",
    "                                     ('Ada', AdaBoostClassifier(n_estimators=100)),\n",
    "                                     ('NB', MultinomialNB())], weights=[5, 5, 5, 1, 2, 5, 1]), \"VC\", X_train, y_train, X_test, y_test)\n",
    "    print vcacc\n",
    "    if vcacc > 0.80:\n",
    "        #print \"Accuracy of VC: \", vcacc\n",
    "        #print \"Precision of VC: \", precision_score(vcpred1, y_test)\n",
    "        #print \"Recall of VC: \", recall_score(vcpred1, y_test)\n",
    "        #print \"F1-score of VC: \", f1_score(vcpred1, y_test)\n",
    "        print \"Accuracy of SVM: \", svcacc\n",
    "        print \"Precision of SVM: \", precision_score(svcpred1, y_test)\n",
    "        print \"Recall of SVM: \", recall_score(svcpred1, y_test)\n",
    "        print \"F1-score of SVM: \", f1_score(svcpred1, y_test)\n",
    "        print \"SVM Confusion Matrix: \", confusion_matrix(svcpred1, y_test)\n",
    "        #plot_confusion_matrix(\"SVM Confusion Matrix\", confusion_matrix(svcpred1, y_test))\n",
    "        print \"Accuracy of XGB: \", xgbacc\n",
    "        print \"Precision of XGB: \", precision_score(xgbpred1, y_test)\n",
    "        print \"Recall of XGB: \", recall_score(xgbpred1, y_test)\n",
    "        print \"F1-score of XGB: \", f1_score(xgbpred1, y_test)\n",
    "        print \"XGB Confusion Matrix: \", confusion_matrix(xgbpred1, y_test)\n",
    "        #plot_confusion_matrix(\"XGBoost Confusion Matrix\", confusion_matrix(xgbpred1, y_test))\n",
    "        \n",
    "        print \"Accuracy of LG: \", lgacc\n",
    "        print \"Precision of LG: \", precision_score(lgpred1, y_test)\n",
    "        print \"Recall of LG: \", recall_score(lgpred1, y_test)\n",
    "        print \"F1-score of LG: \", f1_score(lgpred1, y_test)\n",
    "        print \"LG Confusion Matrix: \", confusion_matrix(lgpred1, y_test)\n",
    "        #plot_confusion_matrix(\"Logistic Regression Confusion Matrix\", confusion_matrix(lgpred1, y_test))\n",
    "        \n",
    "        print \"Accuracy of ExtraT: \", extacc\n",
    "        print \"Precision of ExtraT: \", precision_score(extpred1, y_test)\n",
    "        print \"Recall of ExtraT: \", recall_score(extpred1, y_test)\n",
    "        print \"F1-score of ExtraT: \", f1_score(extpred1, y_test)\n",
    "        print \"ExtraT Confusion Matrix: \", confusion_matrix(extpred1, y_test)\n",
    "        #plot_confusion_matrix(\"ExtraTreesClassifier Confusion Matrix\", confusion_matrix(extpred1, y_test))\n",
    "  \n",
    "        print \"Accuracy of RandomF: \", rfacc\n",
    "        print \"Precision of RandomF: \", precision_score(rfpred1, y_test)\n",
    "        print \"Recall of RandomF: \", recall_score(rfpred1, y_test)\n",
    "        print \"F1-score of RandomF: \", f1_score(rfpred1, y_test)\n",
    "        print \"RandomF Confusion Matrix: \", confusion_matrix(rfpred1, y_test)\n",
    "        #plot_confusion_matrix(\"Random Forest Classifier Confusion Matrix\", confusion_matrix(rfpred1, y_test))\n",
    "        print \"Accuracy of ADA: \", adaacc\n",
    "        print \"Precision of ADA: \", precision_score(adapred1, y_test)\n",
    "        print \"Recall of ADA: \", recall_score(adapred1, y_test)\n",
    "        print \"F1-score of ADA: \", f1_score(adapred1, y_test)\n",
    "        print \"ADA Confusion Matrix: \", confusion_matrix(adapred1, y_test)\n",
    "        #plot_confusion_matrix(\"AdaBoost Confusion Matrix\", confusion_matrix(adapred1, y_test))\n",
    "        print \"Accuracy of NB: \", mnbacc\n",
    "        print \"Precision of NB: \", precision_score(mnbpred1, y_test)\n",
    "        print \"Recall of NB: \", recall_score(mnbpred1, y_test)\n",
    "        print \"F1-score of NB: \", f1_score(mnbpred1, y_test)\n",
    "        print \"NB Confusion Matrix: \", confusion_matrix(mnbpred1, y_test)\n",
    "        #plot_confusion_matrix(\"MultinomialNB Confusion Matrix\", confusion_matrix(mnbpred1, y_test))\n",
    "        print \"Accuracy of VC: \", vcacc\n",
    "        print \"Precision of VC: \", precision_score(vcpred1, y_test)\n",
    "        print \"Recall of VC: \", recall_score(vcpred1, y_test)\n",
    "        print \"F1-score of VC: \", f1_score(vcpred1, y_test)\n",
    "        print \"VC Confusion Matrix: \", confusion_matrix(vcpred1, y_test)\n",
    "        #plot_confusion_matrix(\"VotingClassifier Confusion Matrix\", confusion_matrix(vcpred1, y_test))\n",
    "        break\n"
   ]
  },
  {
   "cell_type": "code",
   "execution_count": 16,
   "metadata": {},
   "outputs": [
    {
     "name": "stdout",
     "output_type": "stream",
     "text": [
      "0.8055555555555556\n"
     ]
    }
   ],
   "source": [
    "while True:\n",
    "    df = shuffle(df)\n",
    "    X_train, X_test, y_train, y_test = train_test_split(df[imp_cols], df[\"target\"], test_size=0.05)\n",
    "    #svcacc, svcpred1 = eval1(SVC(kernel='rbf'), \"SVC\", X_train, y_train, X_test, y_test)\n",
    "    #xgbacc, xgbpred1 = eval1(xgb.XGBClassifier(n_estimators=100), \"XGB\", X_train, y_train, X_test, y_test)\n",
    "    #lgacc, lgpred1 = eval1(LogisticRegression(), \"LG\", X_train, y_train, X_test, y_test)\n",
    "    #extacc, extpred1 = eval1(ExtraTreesClassifier(n_estimators=100), \"ExtraT\", X_train, y_train, X_test, y_test)\n",
    "    #rfacc, rfpred1 = eval1(RandomForestClassifier(n_estimators=100), \"RandomForest\", X_train, y_train, X_test, y_test)\n",
    "    #adaacc, adapred1 = eval1(AdaBoostClassifier(n_estimators=100), \"ADA\", X_train, y_train, X_test, y_test)\n",
    "    #mnbacc, mnbpred1 = eval1(MultinomialNB(), \"MNBayes\", X_train, y_train, X_test, y_test)\n",
    "    vcacc, vcpred1, model = eval2(VotingClassifier(estimators=[('SVM', SVC(kernel='rbf')),\n",
    "                                     ('XGB', xgb.XGBClassifier()),\n",
    "                                     ('LG', LogisticRegression()),\n",
    "                                     ('ExtraT', ExtraTreesClassifier(n_estimators=100)),\n",
    "                                     ('RF', RandomForestClassifier(n_estimators=100)),\n",
    "                                     ('Ada', AdaBoostClassifier(n_estimators=100)),\n",
    "                                     ('NB', MultinomialNB())], weights=[5, 5, 5, 1, 2, 5, 1]), \"VC\", X_train, y_train, X_test, y_test)\n",
    "    print vcacc\n",
    "    if vcacc > 0.80:\n",
    "          import cPickle\n",
    "          cPickle.dump(model, open('model.pkl', 'wb'), -1)\n",
    "          break\n"
   ]
  },
  {
   "cell_type": "code",
   "execution_count": null,
   "metadata": {},
   "outputs": [],
   "source": [
    "model = VotingClassifier(estimators=[('SVM', SVC(kernel='rbf')),\n",
    "                                     ('XGB', xgb.XGBClassifier()),\n",
    "                                     ('LG', LogisticRegression()),\n",
    "                                     ('ExtraT', ExtraTreesClassifier(n_estimators=100)),\n",
    "                                     ('RF', RandomForestClassifier(n_estimators=100)),\n",
    "                                     ('Ada', AdaBoostClassifier(n_estimators=100)),\n",
    "                                     ('NB', MultinomialNB())], weights=[5, 5, 5, 1, 2, 5, 1])"
   ]
  },
  {
   "cell_type": "code",
   "execution_count": 100,
   "metadata": {},
   "outputs": [
    {
     "data": {
      "text/plain": [
       "0    825\n",
       "1    603\n",
       "Name: target, dtype: int64"
      ]
     },
     "execution_count": 100,
     "metadata": {},
     "output_type": "execute_result"
    }
   ],
   "source": [
    "df['target'].value_counts()"
   ]
  },
  {
   "cell_type": "code",
   "execution_count": 57,
   "metadata": {},
   "outputs": [
    {
     "ename": "NameError",
     "evalue": "name 'd2' is not defined",
     "output_type": "error",
     "traceback": [
      "\u001b[0;31m---------------------------------------------------------------------------\u001b[0m",
      "\u001b[0;31mNameError\u001b[0m                                 Traceback (most recent call last)",
      "\u001b[0;32m<ipython-input-57-ffc8e571db6f>\u001b[0m in \u001b[0;36m<module>\u001b[0;34m()\u001b[0m\n\u001b[1;32m      1\u001b[0m \u001b[0;32mfor\u001b[0m \u001b[0mi\u001b[0m \u001b[0;32min\u001b[0m \u001b[0mrange\u001b[0m\u001b[0;34m(\u001b[0m\u001b[0;36m128\u001b[0m\u001b[0;34m)\u001b[0m\u001b[0;34m:\u001b[0m\u001b[0;34m\u001b[0m\u001b[0m\n\u001b[0;32m----> 2\u001b[0;31m     \u001b[0mm1\u001b[0m \u001b[0;34m=\u001b[0m \u001b[0mnp\u001b[0m\u001b[0;34m.\u001b[0m\u001b[0mmean\u001b[0m\u001b[0;34m(\u001b[0m\u001b[0md2\u001b[0m\u001b[0;34m[\u001b[0m\u001b[0mi\u001b[0m\u001b[0;34m]\u001b[0m\u001b[0;34m)\u001b[0m\u001b[0;34m\u001b[0m\u001b[0m\n\u001b[0m\u001b[1;32m      3\u001b[0m     \u001b[0mmx1\u001b[0m \u001b[0;34m=\u001b[0m \u001b[0mnp\u001b[0m\u001b[0;34m.\u001b[0m\u001b[0mmax\u001b[0m\u001b[0;34m(\u001b[0m\u001b[0md2\u001b[0m\u001b[0;34m[\u001b[0m\u001b[0mi\u001b[0m\u001b[0;34m]\u001b[0m\u001b[0;34m)\u001b[0m\u001b[0;34m\u001b[0m\u001b[0m\n\u001b[1;32m      4\u001b[0m     \u001b[0;32mif\u001b[0m \u001b[0mmx1\u001b[0m \u001b[0;34m>=\u001b[0m \u001b[0;36m.77\u001b[0m\u001b[0;34m:\u001b[0m\u001b[0;34m\u001b[0m\u001b[0m\n\u001b[1;32m      5\u001b[0m         \u001b[0;32mprint\u001b[0m \u001b[0mi\u001b[0m\u001b[0;34m,\u001b[0m \u001b[0mmx1\u001b[0m\u001b[0;34m,\u001b[0m \u001b[0mm1\u001b[0m\u001b[0;34m\u001b[0m\u001b[0m\n",
      "\u001b[0;31mNameError\u001b[0m: name 'd2' is not defined"
     ]
    }
   ],
   "source": [
    "for i in range(128):\n",
    "    m1 = np.mean(d2[i])\n",
    "    mx1 = np.max(d2[i])\n",
    "    if mx1 >= .77:\n",
    "        print i, mx1, m1"
   ]
  },
  {
   "cell_type": "code",
   "execution_count": 58,
   "metadata": {},
   "outputs": [
    {
     "ename": "NameError",
     "evalue": "name 'd2' is not defined",
     "output_type": "error",
     "traceback": [
      "\u001b[0;31m---------------------------------------------------------------------------\u001b[0m",
      "\u001b[0;31mNameError\u001b[0m                                 Traceback (most recent call last)",
      "\u001b[0;32m<ipython-input-58-1e73197ac7ef>\u001b[0m in \u001b[0;36m<module>\u001b[0;34m()\u001b[0m\n\u001b[1;32m      2\u001b[0m \u001b[0mindex\u001b[0m \u001b[0;34m=\u001b[0m \u001b[0;36m0\u001b[0m\u001b[0;34m\u001b[0m\u001b[0m\n\u001b[1;32m      3\u001b[0m \u001b[0;32mfor\u001b[0m \u001b[0mi\u001b[0m \u001b[0;32min\u001b[0m \u001b[0mrange\u001b[0m\u001b[0;34m(\u001b[0m\u001b[0;36m128\u001b[0m\u001b[0;34m)\u001b[0m\u001b[0;34m:\u001b[0m\u001b[0;34m\u001b[0m\u001b[0m\n\u001b[0;32m----> 4\u001b[0;31m     \u001b[0mm1\u001b[0m \u001b[0;34m=\u001b[0m \u001b[0mnp\u001b[0m\u001b[0;34m.\u001b[0m\u001b[0mmean\u001b[0m\u001b[0;34m(\u001b[0m\u001b[0md2\u001b[0m\u001b[0;34m[\u001b[0m\u001b[0mi\u001b[0m\u001b[0;34m]\u001b[0m\u001b[0;34m)\u001b[0m\u001b[0;34m\u001b[0m\u001b[0m\n\u001b[0m\u001b[1;32m      5\u001b[0m     \u001b[0;32mif\u001b[0m \u001b[0mmx\u001b[0m \u001b[0;34m<\u001b[0m \u001b[0mm1\u001b[0m\u001b[0;34m:\u001b[0m\u001b[0;34m\u001b[0m\u001b[0m\n\u001b[1;32m      6\u001b[0m         \u001b[0mindex\u001b[0m \u001b[0;34m=\u001b[0m \u001b[0mi\u001b[0m\u001b[0;34m\u001b[0m\u001b[0m\n",
      "\u001b[0;31mNameError\u001b[0m: name 'd2' is not defined"
     ]
    }
   ],
   "source": [
    "mx = 0\n",
    "index = 0\n",
    "for i in range(128):\n",
    "    m1 = np.mean(d2[i])\n",
    "    if mx < m1:\n",
    "        index = i\n",
    "        mx = m1"
   ]
  },
  {
   "cell_type": "code",
   "execution_count": 59,
   "metadata": {},
   "outputs": [
    {
     "data": {
      "text/plain": [
       "0"
      ]
     },
     "execution_count": 59,
     "metadata": {},
     "output_type": "execute_result"
    }
   ],
   "source": [
    "mx"
   ]
  },
  {
   "cell_type": "code",
   "execution_count": 60,
   "metadata": {},
   "outputs": [
    {
     "data": {
      "text/plain": [
       "[5, 4, 5, 1, 2, 5, 1]"
      ]
     },
     "execution_count": 60,
     "metadata": {},
     "output_type": "execute_result"
    }
   ],
   "source": [
    "wtslist[94]"
   ]
  },
  {
   "cell_type": "code",
   "execution_count": 61,
   "metadata": {
    "scrolled": false
   },
   "outputs": [
    {
     "ename": "NameError",
     "evalue": "name 'retmodel' is not defined",
     "output_type": "error",
     "traceback": [
      "\u001b[0;31m---------------------------------------------------------------------------\u001b[0m",
      "\u001b[0;31mNameError\u001b[0m                                 Traceback (most recent call last)",
      "\u001b[0;32m<ipython-input-61-efbd6e66b002>\u001b[0m in \u001b[0;36m<module>\u001b[0;34m()\u001b[0m\n\u001b[1;32m      1\u001b[0m \u001b[0mdf\u001b[0m \u001b[0;34m=\u001b[0m \u001b[0mshuffle\u001b[0m\u001b[0;34m(\u001b[0m\u001b[0mdf\u001b[0m\u001b[0;34m)\u001b[0m\u001b[0;34m\u001b[0m\u001b[0m\n\u001b[1;32m      2\u001b[0m \u001b[0mX_train\u001b[0m\u001b[0;34m,\u001b[0m \u001b[0mX_test\u001b[0m\u001b[0;34m,\u001b[0m \u001b[0my_train\u001b[0m\u001b[0;34m,\u001b[0m \u001b[0my_test\u001b[0m \u001b[0;34m=\u001b[0m \u001b[0mtrain_test_split\u001b[0m\u001b[0;34m(\u001b[0m\u001b[0mdf\u001b[0m\u001b[0;34m[\u001b[0m\u001b[0mimp_cols\u001b[0m\u001b[0;34m]\u001b[0m\u001b[0;34m,\u001b[0m \u001b[0mdf\u001b[0m\u001b[0;34m[\u001b[0m\u001b[0;34m\"target\"\u001b[0m\u001b[0;34m]\u001b[0m\u001b[0;34m,\u001b[0m \u001b[0mtest_size\u001b[0m\u001b[0;34m=\u001b[0m\u001b[0;36m0.25\u001b[0m\u001b[0;34m)\u001b[0m\u001b[0;34m\u001b[0m\u001b[0m\n\u001b[0;32m----> 3\u001b[0;31m \u001b[0mmodel\u001b[0m \u001b[0;34m=\u001b[0m \u001b[0mretmodel\u001b[0m\u001b[0;34m(\u001b[0m\u001b[0;34m[\u001b[0m\u001b[0;36m10\u001b[0m\u001b[0;34m,\u001b[0m \u001b[0;36m8\u001b[0m\u001b[0;34m,\u001b[0m \u001b[0;36m10\u001b[0m\u001b[0;34m,\u001b[0m \u001b[0;36m2\u001b[0m\u001b[0;34m,\u001b[0m \u001b[0;36m4\u001b[0m\u001b[0;34m,\u001b[0m \u001b[0;36m10\u001b[0m\u001b[0;34m,\u001b[0m \u001b[0;36m2\u001b[0m\u001b[0;34m]\u001b[0m\u001b[0;34m)\u001b[0m\u001b[0;34m\u001b[0m\u001b[0m\n\u001b[0m\u001b[1;32m      4\u001b[0m \u001b[0mmodel\u001b[0m \u001b[0;34m=\u001b[0m \u001b[0mmodel\u001b[0m\u001b[0;34m.\u001b[0m\u001b[0mfit\u001b[0m\u001b[0;34m(\u001b[0m\u001b[0mX_train\u001b[0m\u001b[0;34m,\u001b[0m \u001b[0my_train\u001b[0m\u001b[0;34m)\u001b[0m\u001b[0;34m\u001b[0m\u001b[0m\n\u001b[1;32m      5\u001b[0m \u001b[0mpredicted\u001b[0m \u001b[0;34m=\u001b[0m \u001b[0mmodel\u001b[0m\u001b[0;34m.\u001b[0m\u001b[0mpredict\u001b[0m\u001b[0;34m(\u001b[0m\u001b[0mX_test\u001b[0m\u001b[0;34m)\u001b[0m\u001b[0;34m\u001b[0m\u001b[0m\n",
      "\u001b[0;31mNameError\u001b[0m: name 'retmodel' is not defined"
     ]
    }
   ],
   "source": [
    "df = shuffle(df)\n",
    "X_train, X_test, y_train, y_test = train_test_split(df[imp_cols], df[\"target\"], test_size=0.25)\n",
    "model = retmodel([10, 8, 10, 2, 4, 10, 2])\n",
    "model = model.fit(X_train, y_train)\n",
    "predicted = model.predict(X_test)\n",
    "a = accuracy_score(predicted, y_test)\n",
    "print \"Accuracy :\", a\n",
    "print \"Precision :\", precision_score(predicted, y_test)\n",
    "print \"Recall :\", recall_score(predicted, y_test)\n",
    "print \"F1-Score :\", f1_score(predicted, y_test)"
   ]
  },
  {
   "cell_type": "code",
   "execution_count": 38,
   "metadata": {},
   "outputs": [],
   "source": [
    "def retmodel(j):\n",
    "    return VotingClassifier(estimators=[('SVM', SVC(kernel='rbf')),\n",
    "                                     ('XGB', xgb.XGBClassifier()),\n",
    "                                         ('LG', LogisticRegression()),\n",
    "                                         ('ExtraT', ExtraTreesClassifier(n_estimators=100)),\n",
    "                                     ('RF', RandomForestClassifier(n_estimators=100)),\n",
    "                                ('Ada', AdaBoostClassifier(n_estimators=100)),\n",
    "                                    ('NB', MultinomialNB())\n",
    "                                        ], weights=j)"
   ]
  },
  {
   "cell_type": "code",
   "execution_count": 71,
   "metadata": {},
   "outputs": [
    {
     "name": "stdout",
     "output_type": "stream",
     "text": [
      "0.7182072829131652 0.7478991596638656\n",
      "0.7159663865546217 0.7450980392156863\n",
      "0.7182072829131652 0.7478991596638656\n",
      "0.7182072829131652 0.7478991596638656\n",
      "0.7182072829131652 0.7478991596638656\n",
      "0.7182072829131652 0.7478991596638656\n",
      "0.7182072829131652 0.7478991596638656\n",
      "0.7182072829131652 0.7478991596638656\n"
     ]
    },
    {
     "ename": "KeyError",
     "evalue": "8",
     "output_type": "error",
     "traceback": [
      "\u001b[0;31m---------------------------------------------------------------------------\u001b[0m",
      "\u001b[0;31mKeyError\u001b[0m                                  Traceback (most recent call last)",
      "\u001b[0;32m<ipython-input-71-1bcb096e4036>\u001b[0m in \u001b[0;36m<module>\u001b[0;34m()\u001b[0m\n\u001b[1;32m      1\u001b[0m \u001b[0;32mfor\u001b[0m \u001b[0mi\u001b[0m \u001b[0;32min\u001b[0m \u001b[0mrange\u001b[0m\u001b[0;34m(\u001b[0m\u001b[0;36m128\u001b[0m\u001b[0;34m)\u001b[0m\u001b[0;34m:\u001b[0m\u001b[0;34m\u001b[0m\u001b[0m\n\u001b[0;32m----> 2\u001b[0;31m     \u001b[0;32mprint\u001b[0m \u001b[0mnp\u001b[0m\u001b[0;34m.\u001b[0m\u001b[0mmean\u001b[0m\u001b[0;34m(\u001b[0m\u001b[0md2\u001b[0m\u001b[0;34m[\u001b[0m\u001b[0mi\u001b[0m\u001b[0;34m]\u001b[0m\u001b[0;34m)\u001b[0m\u001b[0;34m,\u001b[0m \u001b[0mnp\u001b[0m\u001b[0;34m.\u001b[0m\u001b[0mmax\u001b[0m\u001b[0;34m(\u001b[0m\u001b[0md2\u001b[0m\u001b[0;34m[\u001b[0m\u001b[0mi\u001b[0m\u001b[0;34m]\u001b[0m\u001b[0;34m)\u001b[0m\u001b[0;34m\u001b[0m\u001b[0m\n\u001b[0m",
      "\u001b[0;31mKeyError\u001b[0m: 8"
     ]
    }
   ],
   "source": [
    "for i in range(10):\n",
    "    print np.mean(d2[i]), np.max(d2[i])"
   ]
  },
  {
   "cell_type": "code",
   "execution_count": 72,
   "metadata": {},
   "outputs": [
    {
     "data": {
      "text/plain": [
       "{0: [0.7170868347338936,\n",
       "  0.7198879551820728,\n",
       "  0.7338935574229691,\n",
       "  0.7254901960784313,\n",
       "  0.7478991596638656,\n",
       "  0.6974789915966386,\n",
       "  0.7002801120448179,\n",
       "  0.7086834733893558,\n",
       "  0.7226890756302521,\n",
       "  0.7086834733893558],\n",
       " 1: [0.7142857142857143,\n",
       "  0.7226890756302521,\n",
       "  0.7310924369747899,\n",
       "  0.7198879551820728,\n",
       "  0.7450980392156863,\n",
       "  0.6946778711484594,\n",
       "  0.7002801120448179,\n",
       "  0.711484593837535,\n",
       "  0.7170868347338936,\n",
       "  0.7030812324929971],\n",
       " 2: [0.7170868347338936,\n",
       "  0.7198879551820728,\n",
       "  0.7338935574229691,\n",
       "  0.7254901960784313,\n",
       "  0.7478991596638656,\n",
       "  0.6974789915966386,\n",
       "  0.7002801120448179,\n",
       "  0.7086834733893558,\n",
       "  0.7226890756302521,\n",
       "  0.7086834733893558],\n",
       " 3: [0.7170868347338936,\n",
       "  0.7198879551820728,\n",
       "  0.7338935574229691,\n",
       "  0.7254901960784313,\n",
       "  0.7478991596638656,\n",
       "  0.6974789915966386,\n",
       "  0.7002801120448179,\n",
       "  0.7086834733893558,\n",
       "  0.7226890756302521,\n",
       "  0.7086834733893558],\n",
       " 4: [0.7170868347338936,\n",
       "  0.7198879551820728,\n",
       "  0.7338935574229691,\n",
       "  0.7254901960784313,\n",
       "  0.7478991596638656,\n",
       "  0.6974789915966386,\n",
       "  0.7002801120448179,\n",
       "  0.7086834733893558,\n",
       "  0.7226890756302521,\n",
       "  0.7086834733893558],\n",
       " 5: [0.7170868347338936,\n",
       "  0.7198879551820728,\n",
       "  0.7338935574229691,\n",
       "  0.7254901960784313,\n",
       "  0.7478991596638656,\n",
       "  0.6974789915966386,\n",
       "  0.7002801120448179,\n",
       "  0.7086834733893558,\n",
       "  0.7226890756302521,\n",
       "  0.7086834733893558],\n",
       " 6: [0.7170868347338936,\n",
       "  0.7198879551820728,\n",
       "  0.7338935574229691,\n",
       "  0.7254901960784313,\n",
       "  0.7478991596638656,\n",
       "  0.6974789915966386,\n",
       "  0.7002801120448179,\n",
       "  0.7086834733893558,\n",
       "  0.7226890756302521,\n",
       "  0.7086834733893558],\n",
       " 7: [0.7170868347338936,\n",
       "  0.7198879551820728,\n",
       "  0.7338935574229691,\n",
       "  0.7254901960784313,\n",
       "  0.7478991596638656,\n",
       "  0.6974789915966386,\n",
       "  0.7002801120448179,\n",
       "  0.7086834733893558,\n",
       "  0.7226890756302521,\n",
       "  0.7086834733893558]}"
      ]
     },
     "execution_count": 72,
     "metadata": {},
     "output_type": "execute_result"
    }
   ],
   "source": [
    "d2"
   ]
  },
  {
   "cell_type": "code",
   "execution_count": 68,
   "metadata": {},
   "outputs": [],
   "source": [
    "d3 = d2.copy()"
   ]
  },
  {
   "cell_type": "code",
   "execution_count": 216,
   "metadata": {},
   "outputs": [],
   "source": [
    "def eval1(model, name, X_train, y_train, X_test, y_test):\n",
    "    model.fit(X_train, y_train)\n",
    "    predicted = model.predict(X_test)\n",
    "    return accuracy_score(predicted, y_test), predicted\n",
    "    "
   ]
  },
  {
   "cell_type": "code",
   "execution_count": 13,
   "metadata": {},
   "outputs": [],
   "source": [
    "def eval2(model, name, X_train, y_train, X_test, y_test):\n",
    "    model.fit(X_train, y_train)\n",
    "    predicted = model.predict(X_test)\n",
    "    return accuracy_score(predicted, y_test), predicted, model\n",
    "    "
   ]
  },
  {
   "cell_type": "code",
   "execution_count": 66,
   "metadata": {},
   "outputs": [],
   "source": [
    "import numpy as np"
   ]
  },
  {
   "cell_type": "code",
   "execution_count": 65,
   "metadata": {},
   "outputs": [],
   "source": [
    "from sklearn.linear_model import LogisticRegression"
   ]
  },
  {
   "cell_type": "code",
   "execution_count": 36,
   "metadata": {},
   "outputs": [],
   "source": [
    "model = LogisticRegression()"
   ]
  },
  {
   "cell_type": "code",
   "execution_count": 37,
   "metadata": {},
   "outputs": [
    {
     "data": {
      "text/plain": [
       "LogisticRegression(C=1.0, class_weight=None, dual=False, fit_intercept=True,\n",
       "          intercept_scaling=1, max_iter=100, multi_class='ovr', n_jobs=1,\n",
       "          penalty='l2', random_state=None, solver='liblinear', tol=0.0001,\n",
       "          verbose=0, warm_start=False)"
      ]
     },
     "execution_count": 37,
     "metadata": {},
     "output_type": "execute_result"
    }
   ],
   "source": [
    "model.fit(X_train, y_train)"
   ]
  },
  {
   "cell_type": "code",
   "execution_count": 38,
   "metadata": {},
   "outputs": [
    {
     "data": {
      "text/plain": [
       "0.7394957983193278"
      ]
     },
     "execution_count": 38,
     "metadata": {},
     "output_type": "execute_result"
    }
   ],
   "source": [
    "predicted = model.predict(X_test)\n",
    "accuracy_score(predicted, y_test)"
   ]
  },
  {
   "cell_type": "code",
   "execution_count": 39,
   "metadata": {},
   "outputs": [],
   "source": [
    "from sklearn.neighbors import KNeighborsClassifier"
   ]
  },
  {
   "cell_type": "code",
   "execution_count": 40,
   "metadata": {},
   "outputs": [],
   "source": [
    "model = AdaBoostClassifier(n_estimators=100)"
   ]
  },
  {
   "cell_type": "code",
   "execution_count": 41,
   "metadata": {},
   "outputs": [
    {
     "data": {
      "text/plain": [
       "AdaBoostClassifier(algorithm='SAMME.R', base_estimator=None,\n",
       "          learning_rate=1.0, n_estimators=100, random_state=None)"
      ]
     },
     "execution_count": 41,
     "metadata": {},
     "output_type": "execute_result"
    }
   ],
   "source": [
    "model.fit(X_train, y_train)"
   ]
  },
  {
   "cell_type": "code",
   "execution_count": 101,
   "metadata": {},
   "outputs": [],
   "source": [
    "df = shuffle(df)\n",
    "X_train, X_test, y_train, y_test = train_test_split(df[imp_cols], df[\"target\"], test_size=0.25)\n"
   ]
  },
  {
   "cell_type": "code",
   "execution_count": 43,
   "metadata": {},
   "outputs": [
    {
     "data": {
      "text/plain": [
       "0.6638655462184874"
      ]
     },
     "execution_count": 43,
     "metadata": {},
     "output_type": "execute_result"
    }
   ],
   "source": [
    "predicted = model.predict(X_test)\n",
    "accuracy_score(predicted, y_test)"
   ]
  },
  {
   "cell_type": "code",
   "execution_count": 44,
   "metadata": {},
   "outputs": [],
   "source": [
    "from sklearn.linear_model import LinearRegression"
   ]
  },
  {
   "cell_type": "code",
   "execution_count": 168,
   "metadata": {},
   "outputs": [],
   "source": [
    "def plot_confusion_matrix(name, matrix):\n",
    "    \"\"\"\n",
    "    Call this function after calling confusion_matrix_1()\n",
    "    \"\"\"  \n",
    "    arr = list(m[0])\n",
    "    arr.extend(list(m[1]))\n",
    "    labels=['Actual: True, Predicted: True', 'Actual: False, Predicted: True', 'Actual: True, Predicted: False', 'Actual: False, Predicted: False']\n",
    "    colors=['g','r','r','g']\n",
    "    for i in range(4):\n",
    "        plt.bar(i, arr[i], label=labels[i], color=colors[i])\n",
    "    plt.legend()\n",
    "    plt.ylabel(\"Test Sets\")\n",
    "    plt.xticks([i for i in range(4)], [\"True Positives\", \"False Positives\", \"False Negatives\", \"True Negatives\"])\n",
    "    plt.title(name)\n",
    "    plt.savefig(name)\n",
    "    plt.show()\n",
    "        "
   ]
  },
  {
   "cell_type": "code",
   "execution_count": 146,
   "metadata": {},
   "outputs": [],
   "source": [
    "m = [[167 , 70] ,[ 38,  82]]\n"
   ]
  },
  {
   "cell_type": "code",
   "execution_count": 147,
   "metadata": {},
   "outputs": [
    {
     "data": {
      "image/png": "[encoded data removed]",
      "text/plain": [
       "<matplotlib.figure.Figure at 0x7f5349973510>"
      ]
     },
     "metadata": {},
     "output_type": "display_data"
    }
   ],
   "source": [
    "plot_confusion_matrix(\"Naive Bayes Confusion Matrix:\", m)"
   ]
  },
  {
   "cell_type": "code",
   "execution_count": 29,
   "metadata": {},
   "outputs": [],
   "source": [
    "def plot_heat_map_of_correlation():\n",
    "    \"\"\"\n",
    "    Call this function after calling create_feature_set_df()\n",
    "    \"\"\"\n",
    "    corrmat = df.corr()\n",
    "    sns.heatmap(corrmat, cbar=True, annot=True)\n",
    "    "
   ]
  },
  {
   "cell_type": "code",
   "execution_count": 30,
   "metadata": {},
   "outputs": [
    {
     "data": {
      "image/png": "[encoded data removed]",
      "text/plain": [
       "<matplotlib.figure.Figure at 0x7f5349709710>"
      ]
     },
     "metadata": {},
     "output_type": "display_data"
    }
   ],
   "source": [
    "plot_heat_map_of_correlation()"
   ]
  },
  {
   "cell_type": "code",
   "execution_count": 32,
   "metadata": {},
   "outputs": [
    {
     "data": {
      "image/png": "[encoded data removed]",
      "text/plain": [
       "<matplotlib.figure.Figure at 0x7f534950a210>"
      ]
     },
     "metadata": {},
     "output_type": "display_data"
    }
   ],
   "source": [
    "import matplotlib.pyplot as plt\n",
    "import numpy as np\n",
    "\n",
    "x = np.array([0,1,2,3])\n",
    "y = np.array([20,21,22,23])\n",
    "my_xticks = ['John','Arnold','Mavis','Matt']\n",
    "plt.xticks(x, my_xticks)\n",
    "plt.plot(x, y)\n",
    "plt.show()"
   ]
  },
  {
   "cell_type": "code",
   "execution_count": 246,
   "metadata": {},
   "outputs": [
    {
     "name": "stdout",
     "output_type": "stream",
     "text": [
      "$: dollar\n",
      "    $ -$ --$ A$ C$ HK$ M$ NZ$ S$ U.S.$ US$\n",
      "'': closing quotation mark\n",
      "    ' ''\n",
      "(: opening parenthesis\n",
      "    ( [ {\n",
      "): closing parenthesis\n",
      "    ) ] }\n",
      ",: comma\n",
      "    ,\n",
      "--: dash\n",
      "    --\n",
      ".: sentence terminator\n",
      "    . ! ?\n",
      ":: colon or ellipsis\n",
      "    : ; ...\n",
      "CC: conjunction, coordinating\n",
      "    & 'n and both but either et for less minus neither nor or plus so\n",
      "    therefore times v. versus vs. whether yet\n",
      "CD: numeral, cardinal\n",
      "    mid-1890 nine-thirty forty-two one-tenth ten million 0.5 one forty-\n",
      "    seven 1987 twenty '79 zero two 78-degrees eighty-four IX '60s .025\n",
      "    fifteen 271,124 dozen quintillion DM2,000 ...\n",
      "DT: determiner\n",
      "    all an another any both del each either every half la many much nary\n",
      "    neither no some such that the them these this those\n",
      "EX: existential there\n",
      "    there\n",
      "FW: foreign word\n",
      "    gemeinschaft hund ich jeux habeas Haementeria Herr K'ang-si vous\n",
      "    lutihaw alai je jour objets salutaris fille quibusdam pas trop Monte\n",
      "    terram fiche oui corporis ...\n",
      "IN: preposition or conjunction, subordinating\n",
      "    astride among uppon whether out inside pro despite on by throughout\n",
      "    below within for towards near behind atop around if like until below\n",
      "    next into if beside ...\n",
      "JJ: adjective or numeral, ordinal\n",
      "    third ill-mannered pre-war regrettable oiled calamitous first separable\n",
      "    ectoplasmic battery-powered participatory fourth still-to-be-named\n",
      "    multilingual multi-disciplinary ...\n",
      "JJR: adjective, comparative\n",
      "    bleaker braver breezier briefer brighter brisker broader bumper busier\n",
      "    calmer cheaper choosier cleaner clearer closer colder commoner costlier\n",
      "    cozier creamier crunchier cuter ...\n",
      "JJS: adjective, superlative\n",
      "    calmest cheapest choicest classiest cleanest clearest closest commonest\n",
      "    corniest costliest crassest creepiest crudest cutest darkest deadliest\n",
      "    dearest deepest densest dinkiest ...\n",
      "LS: list item marker\n",
      "    A A. B B. C C. D E F First G H I J K One SP-44001 SP-44002 SP-44005\n",
      "    SP-44007 Second Third Three Two * a b c d first five four one six three\n",
      "    two\n",
      "MD: modal auxiliary\n",
      "    can cannot could couldn't dare may might must need ought shall should\n",
      "    shouldn't will would\n",
      "NN: noun, common, singular or mass\n",
      "    common-carrier cabbage knuckle-duster Casino afghan shed thermostat\n",
      "    investment slide humour falloff slick wind hyena override subhumanity\n",
      "    machinist ...\n",
      "NNP: noun, proper, singular\n",
      "    Motown Venneboerger Czestochwa Ranzer Conchita Trumplane Christos\n",
      "    Oceanside Escobar Kreisler Sawyer Cougar Yvette Ervin ODI Darryl CTCA\n",
      "    Shannon A.K.C. Meltex Liverpool ...\n",
      "NNPS: noun, proper, plural\n",
      "    Americans Americas Amharas Amityvilles Amusements Anarcho-Syndicalists\n",
      "    Andalusians Andes Andruses Angels Animals Anthony Antilles Antiques\n",
      "    Apache Apaches Apocrypha ...\n",
      "NNS: noun, common, plural\n",
      "    undergraduates scotches bric-a-brac products bodyguards facets coasts\n",
      "    divestitures storehouses designs clubs fragrances averages\n",
      "    subjectivists apprehensions muses factory-jobs ...\n",
      "PDT: pre-determiner\n",
      "    all both half many quite such sure this\n",
      "POS: genitive marker\n",
      "    ' 's\n",
      "PRP: pronoun, personal\n",
      "    hers herself him himself hisself it itself me myself one oneself ours\n",
      "    ourselves ownself self she thee theirs them themselves they thou thy us\n",
      "PRP$: pronoun, possessive\n",
      "    her his mine my our ours their thy your\n",
      "RB: adverb\n",
      "    occasionally unabatingly maddeningly adventurously professedly\n",
      "    stirringly prominently technologically magisterially predominately\n",
      "    swiftly fiscally pitilessly ...\n",
      "RBR: adverb, comparative\n",
      "    further gloomier grander graver greater grimmer harder harsher\n",
      "    healthier heavier higher however larger later leaner lengthier less-\n",
      "    perfectly lesser lonelier longer louder lower more ...\n",
      "RBS: adverb, superlative\n",
      "    best biggest bluntest earliest farthest first furthest hardest\n",
      "    heartiest highest largest least less most nearest second tightest worst\n",
      "RP: particle\n",
      "    aboard about across along apart around aside at away back before behind\n",
      "    by crop down ever fast for forth from go high i.e. in into just later\n",
      "    low more off on open out over per pie raising start teeth that through\n",
      "    under unto up up-pp upon whole with you\n",
      "SYM: symbol\n",
      "    % & ' '' ''. ) ). * + ,. < = > @ A[fj] U.S U.S.S.R * ** ***\n",
      "TO: \"to\" as preposition or infinitive marker\n",
      "    to\n",
      "UH: interjection\n",
      "    Goodbye Goody Gosh Wow Jeepers Jee-sus Hubba Hey Kee-reist Oops amen\n",
      "    huh howdy uh dammit whammo shucks heck anyways whodunnit honey golly\n",
      "    man baby diddle hush sonuvabitch ...\n",
      "VB: verb, base form\n",
      "    ask assemble assess assign assume atone attention avoid bake balkanize\n",
      "    bank begin behold believe bend benefit bevel beware bless boil bomb\n",
      "    boost brace break bring broil brush build ...\n",
      "VBD: verb, past tense\n",
      "    dipped pleaded swiped regummed soaked tidied convened halted registered\n",
      "    cushioned exacted snubbed strode aimed adopted belied figgered\n",
      "    speculated wore appreciated contemplated ...\n",
      "VBG: verb, present participle or gerund\n",
      "    telegraphing stirring focusing angering judging stalling lactating\n",
      "    hankerin' alleging veering capping approaching traveling besieging\n",
      "    encrypting interrupting erasing wincing ...\n",
      "VBN: verb, past participle\n",
      "    multihulled dilapidated aerosolized chaired languished panelized used\n",
      "    experimented flourished imitated reunifed factored condensed sheared\n",
      "    unsettled primed dubbed desired ...\n",
      "VBP: verb, present tense, not 3rd person singular\n",
      "    predominate wrap resort sue twist spill cure lengthen brush terminate\n",
      "    appear tend stray glisten obtain comprise detest tease attract\n",
      "    emphasize mold postpone sever return wag ...\n",
      "VBZ: verb, present tense, 3rd person singular\n",
      "    bases reconstructs marks mixes displeases seals carps weaves snatches\n",
      "    slumps stretches authorizes smolders pictures emerges stockpiles\n",
      "    seduces fizzes uses bolsters slaps speaks pleads ...\n",
      "WDT: WH-determiner\n",
      "    that what whatever which whichever\n",
      "WP: WH-pronoun\n",
      "    that what whatever whatsoever which who whom whosoever\n",
      "WP$: WH-pronoun, possessive\n",
      "    whose\n",
      "WRB: Wh-adverb\n",
      "    how however whence whenever where whereby whereever wherein whereof why\n",
      "``: opening quotation mark\n",
      "    ` ``\n"
     ]
    }
   ],
   "source": [
    "nltk.help.upenn_tagset()"
   ]
  },
  {
   "cell_type": "code",
   "execution_count": 44,
   "metadata": {},
   "outputs": [],
   "source": [
    "a = nltk.ne_chunk(nltk.pos_tag(nltk.word_tokenize(\"Google owns Facebook Incorporation.\")))"
   ]
  },
  {
   "cell_type": "code",
   "execution_count": 42,
   "metadata": {},
   "outputs": [],
   "source": [
    "from nltk.chunk import tree2conlltags"
   ]
  },
  {
   "cell_type": "code",
   "execution_count": 45,
   "metadata": {},
   "outputs": [
    {
     "data": {
      "text/plain": [
       "[('Google', 'NNP', u'B-GPE'),\n",
       " ('owns', 'VBZ', u'O'),\n",
       " ('Facebook', 'NNP', u'B-PERSON'),\n",
       " ('Incorporation', 'NNP', u'I-PERSON'),\n",
       " ('.', '.', u'O')]"
      ]
     },
     "execution_count": 45,
     "metadata": {},
     "output_type": "execute_result"
    }
   ],
   "source": [
    "tree2conlltags(a)"
   ]
  },
  {
   "cell_type": "code",
   "execution_count": null,
   "metadata": {},
   "outputs": [],
   "source": [
    "#Read string from file\n",
    "s = f.read()\n",
    "s = unicode(s, errors=\"ignore\")\n",
    "#list of sentences\n",
    "sentences = nltk.sent_tokenize(s)\n",
    "#list of POS Tagged Sentences\n",
    "tagged_sentences = []\n",
    "for i in sentences:\n",
    "    tagged_sentences.append(nltk.pos_tag(nltk.word_tokenize(i)))\n",
    "df = featureset_df(tagged_sentences, 0, imp_cols)\n",
    "# Array of 0, 1 values\n",
    "predicted = model.predict(df)\n",
    "starting_phrases = re.compile(\n",
    "\"^For example\"|\n",
    "\"^Once upon a time\"|\n",
    "\"^Long time ago\"|\n",
    "\"^For instance\"|\n",
    "\"^Let's take an example of\"|\n",
    "\"^However\"|\n",
    "\"^In\"|\n",
    "\"^For\"|\n",
    "\"^Another Example\"|\n",
    "\"^Consider\"|\n",
    "\"^Whenever\"|\n",
    "\"^Take\"\n",
    ")\n",
    "demonstrative_pronouns = re.compile(\n",
    "\"Such\"|\n",
    "\"This\"|\n",
    "\"That\"|\n",
    "\"These\"|\n",
    "\"Those\"|\n",
    "\"Either\"|\n",
    "\"Neither\"\n",
    ")\n",
    "rule_based = []\n",
    "for k,v in enumerate(sentences):\n",
    "    v = v.strip()\n",
    "    rule_based[k] = 0\n",
    "    if demonstrative_pronouns.match(v) is None:\n",
    "        rule_based[k] = 0\n",
    "        if starting_phrases.match(v) is not None:\n",
    "            rule_based[k] = 2\n",
    "        else:\n",
    "            a = st.tag(nltk.word_tokenize(v))\n",
    "            for i in a:\n",
    "                if i[1] == 'PERSON' or i[1] == \"ORGANIZATION\":\n",
    "                    rule_based[k] = 1\n",
    "                    break\n",
    "# Heuristics\n",
    "# Two arrays are predicted, rule_based\n",
    "# Now where both are 1 or the addition of both >= 2 then that is a start of the anecdote\n",
    "# If the number of sentences in the anecdotes is less than 3 then it's not an anecdote\n",
    "\n",
    "# anecdotes array consists of start and end denoted by 1, -1\n",
    "anecdotes = []\n",
    "flag = 0\n",
    "num_z = 0\n",
    "anec_count = 0\n",
    "for k, v in enumerate(zip(predicted, rule_based)):\n",
    "    anecdote[k] = 0\n",
    "    if v[0] + v[1] >= 2 and flag == 0:\n",
    "        anec_count += 1\n",
    "        flag = 1\n",
    "        anecdotes[k] = 1\n",
    "    elif flag == 1 and v[0] == 1:\n",
    "        anec_count += 1         \n",
    "    elif flag == 1 and v[0] == 0:\n",
    "        num_z += 1\n",
    "        if num_z >= 2:\n",
    "            anecdote[k - 2] = -1\n",
    "            flag = 0\n",
    "            if anec_count < 2:\n",
    "                anecdotes[k - 2] = 0\n",
    "            anec_count = 0\n",
    "\n",
    "# Now anecdotes contains start and end of the anecdotes based on 1 and -1 number\n",
    "s1 = \"\"\n",
    "h1 = \"\"\n",
    "for i in anecdotes:\n",
    "    if i == 1:\n",
    "        s1 += \"<story> \"\n",
    "        h1 += '<span style=\"color:red\"> '\n",
    "        h1 += i\n",
    "        s1 += i\n",
    "    elif i == -1:\n",
    "        s1 += i\n",
    "        h1 += i\n",
    "        h1 += ' </span>'\n",
    "        s1 += \" </story>\"\n",
    "fout = open()\n",
    "\n",
    "\n"
   ]
  },
  {
   "cell_type": "code",
   "execution_count": 3,
   "metadata": {},
   "outputs": [],
   "source": [
    "s = ' abcd\"def\"'"
   ]
  },
  {
   "cell_type": "code",
   "execution_count": 4,
   "metadata": {},
   "outputs": [
    {
     "name": "stdout",
     "output_type": "stream",
     "text": [
      " abcd\"def\"\n"
     ]
    }
   ],
   "source": [
    "print s"
   ]
  },
  {
   "cell_type": "code",
   "execution_count": 46,
   "metadata": {},
   "outputs": [],
   "source": [
    "from nltk.tag import StanfordNERTagger"
   ]
  },
  {
   "cell_type": "code",
   "execution_count": 65,
   "metadata": {},
   "outputs": [
    {
     "name": "stderr",
     "output_type": "stream",
     "text": [
      "/usr/local/lib/python2.7/dist-packages/nltk/tag/stanford.py:183: DeprecationWarning: \n",
      "The StanfordTokenizer will be deprecated in version 3.2.5.\n",
      "Please use \u001b[91mnltk.tag.corenlp.CoreNLPPOSTagger\u001b[0m or \u001b[91mnltk.tag.corenlp.CoreNLPNERTagger\u001b[0m instead.\n",
      "  super(StanfordNERTagger, self).__init__(*args, **kwargs)\n"
     ]
    }
   ],
   "source": [
    "st = StanfordNERTagger(\"/home/shirish/stanford-corenlp/stanford-ner-2018-02-27/classifiers/english.all.3class.distsim.crf.ser.gz\",\n",
    "                       \"/home/shirish/stanford-corenlp/stanford-ner-2018-02-27/stanford-ner.jar\",encoding='utf-8')"
   ]
  },
  {
   "cell_type": "code",
   "execution_count": 66,
   "metadata": {},
   "outputs": [],
   "source": [
    "import os"
   ]
  },
  {
   "cell_type": "code",
   "execution_count": 67,
   "metadata": {},
   "outputs": [],
   "source": [
    "os.environ['STANFORD_PARSER'] = '/home/shirish/stanford-corenlp/stanford-ner-2018-02-27/'\n",
    "os.environ['STANFORD_MODELS'] = '/home/shirish/stanford-corenlp/stanford-ner-2018-02-27/'\n",
    "os.environ['CLASSPATH'] = \"/home/shirish/stanford-corenlp/stanford-ner-2018-02-27/:/home/shirish/stanford-corenlp/stanford-ner-2018-02-27/classifiers:/home/shirish/stanford-corenlp/stanford-ner-2018-02-27/lib\""
   ]
  },
  {
   "cell_type": "code",
   "execution_count": 71,
   "metadata": {},
   "outputs": [
    {
     "data": {
      "text/plain": [
       "[(u'Rome', u'LOCATION'),\n",
       " (u'is', u'O'),\n",
       " (u'not', u'O'),\n",
       " (u'built', u'O'),\n",
       " (u'in', u'O'),\n",
       " (u'a', u'O'),\n",
       " (u'day', u'O')]"
      ]
     },
     "execution_count": 71,
     "metadata": {},
     "output_type": "execute_result"
    }
   ],
   "source": [
    "st.tag(\"Rome is not built in a day\".split())"
   ]
  },
  {
   "cell_type": "code",
   "execution_count": 1,
   "metadata": {},
   "outputs": [],
   "source": [
    "l = []"
   ]
  },
  {
   "cell_type": "code",
   "execution_count": 2,
   "metadata": {},
   "outputs": [
    {
     "ename": "IndexError",
     "evalue": "list assignment index out of range",
     "output_type": "error",
     "traceback": [
      "\u001b[0;31m---------------------------------------------------------------------------\u001b[0m",
      "\u001b[0;31mIndexError\u001b[0m                                Traceback (most recent call last)",
      "\u001b[0;32m<ipython-input-2-1b11f4bd934b>\u001b[0m in \u001b[0;36m<module>\u001b[0;34m()\u001b[0m\n\u001b[0;32m----> 1\u001b[0;31m \u001b[0ml\u001b[0m\u001b[0;34m[\u001b[0m\u001b[0;36m0\u001b[0m\u001b[0;34m]\u001b[0m \u001b[0;34m=\u001b[0m \u001b[0;36m1\u001b[0m\u001b[0;34m\u001b[0m\u001b[0m\n\u001b[0m",
      "\u001b[0;31mIndexError\u001b[0m: list assignment index out of range"
     ]
    }
   ],
   "source": [
    "l[0] = 1"
   ]
  },
  {
   "cell_type": "code",
   "execution_count": 5,
   "metadata": {},
   "outputs": [],
   "source": [
    "import nltk\n"
   ]
  },
  {
   "cell_type": "code",
   "execution_count": 6,
   "metadata": {},
   "outputs": [
    {
     "name": "stdout",
     "output_type": "stream",
     "text": [
      "$: dollar\n",
      "    $ -$ --$ A$ C$ HK$ M$ NZ$ S$ U.S.$ US$\n",
      "'': closing quotation mark\n",
      "    ' ''\n",
      "(: opening parenthesis\n",
      "    ( [ {\n",
      "): closing parenthesis\n",
      "    ) ] }\n",
      ",: comma\n",
      "    ,\n",
      "--: dash\n",
      "    --\n",
      ".: sentence terminator\n",
      "    . ! ?\n",
      ":: colon or ellipsis\n",
      "    : ; ...\n",
      "CC: conjunction, coordinating\n",
      "    & 'n and both but either et for less minus neither nor or plus so\n",
      "    therefore times v. versus vs. whether yet\n",
      "CD: numeral, cardinal\n",
      "    mid-1890 nine-thirty forty-two one-tenth ten million 0.5 one forty-\n",
      "    seven 1987 twenty '79 zero two 78-degrees eighty-four IX '60s .025\n",
      "    fifteen 271,124 dozen quintillion DM2,000 ...\n",
      "DT: determiner\n",
      "    all an another any both del each either every half la many much nary\n",
      "    neither no some such that the them these this those\n",
      "EX: existential there\n",
      "    there\n",
      "FW: foreign word\n",
      "    gemeinschaft hund ich jeux habeas Haementeria Herr K'ang-si vous\n",
      "    lutihaw alai je jour objets salutaris fille quibusdam pas trop Monte\n",
      "    terram fiche oui corporis ...\n",
      "IN: preposition or conjunction, subordinating\n",
      "    astride among uppon whether out inside pro despite on by throughout\n",
      "    below within for towards near behind atop around if like until below\n",
      "    next into if beside ...\n",
      "JJ: adjective or numeral, ordinal\n",
      "    third ill-mannered pre-war regrettable oiled calamitous first separable\n",
      "    ectoplasmic battery-powered participatory fourth still-to-be-named\n",
      "    multilingual multi-disciplinary ...\n",
      "JJR: adjective, comparative\n",
      "    bleaker braver breezier briefer brighter brisker broader bumper busier\n",
      "    calmer cheaper choosier cleaner clearer closer colder commoner costlier\n",
      "    cozier creamier crunchier cuter ...\n",
      "JJS: adjective, superlative\n",
      "    calmest cheapest choicest classiest cleanest clearest closest commonest\n",
      "    corniest costliest crassest creepiest crudest cutest darkest deadliest\n",
      "    dearest deepest densest dinkiest ...\n",
      "LS: list item marker\n",
      "    A A. B B. C C. D E F First G H I J K One SP-44001 SP-44002 SP-44005\n",
      "    SP-44007 Second Third Three Two * a b c d first five four one six three\n",
      "    two\n",
      "MD: modal auxiliary\n",
      "    can cannot could couldn't dare may might must need ought shall should\n",
      "    shouldn't will would\n",
      "NN: noun, common, singular or mass\n",
      "    common-carrier cabbage knuckle-duster Casino afghan shed thermostat\n",
      "    investment slide humour falloff slick wind hyena override subhumanity\n",
      "    machinist ...\n",
      "NNP: noun, proper, singular\n",
      "    Motown Venneboerger Czestochwa Ranzer Conchita Trumplane Christos\n",
      "    Oceanside Escobar Kreisler Sawyer Cougar Yvette Ervin ODI Darryl CTCA\n",
      "    Shannon A.K.C. Meltex Liverpool ...\n",
      "NNPS: noun, proper, plural\n",
      "    Americans Americas Amharas Amityvilles Amusements Anarcho-Syndicalists\n",
      "    Andalusians Andes Andruses Angels Animals Anthony Antilles Antiques\n",
      "    Apache Apaches Apocrypha ...\n",
      "NNS: noun, common, plural\n",
      "    undergraduates scotches bric-a-brac products bodyguards facets coasts\n",
      "    divestitures storehouses designs clubs fragrances averages\n",
      "    subjectivists apprehensions muses factory-jobs ...\n",
      "PDT: pre-determiner\n",
      "    all both half many quite such sure this\n",
      "POS: genitive marker\n",
      "    ' 's\n",
      "PRP: pronoun, personal\n",
      "    hers herself him himself hisself it itself me myself one oneself ours\n",
      "    ourselves ownself self she thee theirs them themselves they thou thy us\n",
      "PRP$: pronoun, possessive\n",
      "    her his mine my our ours their thy your\n",
      "RB: adverb\n",
      "    occasionally unabatingly maddeningly adventurously professedly\n",
      "    stirringly prominently technologically magisterially predominately\n",
      "    swiftly fiscally pitilessly ...\n",
      "RBR: adverb, comparative\n",
      "    further gloomier grander graver greater grimmer harder harsher\n",
      "    healthier heavier higher however larger later leaner lengthier less-\n",
      "    perfectly lesser lonelier longer louder lower more ...\n",
      "RBS: adverb, superlative\n",
      "    best biggest bluntest earliest farthest first furthest hardest\n",
      "    heartiest highest largest least less most nearest second tightest worst\n",
      "RP: particle\n",
      "    aboard about across along apart around aside at away back before behind\n",
      "    by crop down ever fast for forth from go high i.e. in into just later\n",
      "    low more off on open out over per pie raising start teeth that through\n",
      "    under unto up up-pp upon whole with you\n",
      "SYM: symbol\n",
      "    % & ' '' ''. ) ). * + ,. < = > @ A[fj] U.S U.S.S.R * ** ***\n",
      "TO: \"to\" as preposition or infinitive marker\n",
      "    to\n",
      "UH: interjection\n",
      "    Goodbye Goody Gosh Wow Jeepers Jee-sus Hubba Hey Kee-reist Oops amen\n",
      "    huh howdy uh dammit whammo shucks heck anyways whodunnit honey golly\n",
      "    man baby diddle hush sonuvabitch ...\n",
      "VB: verb, base form\n",
      "    ask assemble assess assign assume atone attention avoid bake balkanize\n",
      "    bank begin behold believe bend benefit bevel beware bless boil bomb\n",
      "    boost brace break bring broil brush build ...\n",
      "VBD: verb, past tense\n",
      "    dipped pleaded swiped regummed soaked tidied convened halted registered\n",
      "    cushioned exacted snubbed strode aimed adopted belied figgered\n",
      "    speculated wore appreciated contemplated ...\n",
      "VBG: verb, present participle or gerund\n",
      "    telegraphing stirring focusing angering judging stalling lactating\n",
      "    hankerin' alleging veering capping approaching traveling besieging\n",
      "    encrypting interrupting erasing wincing ...\n",
      "VBN: verb, past participle\n",
      "    multihulled dilapidated aerosolized chaired languished panelized used\n",
      "    experimented flourished imitated reunifed factored condensed sheared\n",
      "    unsettled primed dubbed desired ...\n",
      "VBP: verb, present tense, not 3rd person singular\n",
      "    predominate wrap resort sue twist spill cure lengthen brush terminate\n",
      "    appear tend stray glisten obtain comprise detest tease attract\n",
      "    emphasize mold postpone sever return wag ...\n",
      "VBZ: verb, present tense, 3rd person singular\n",
      "    bases reconstructs marks mixes displeases seals carps weaves snatches\n",
      "    slumps stretches authorizes smolders pictures emerges stockpiles\n",
      "    seduces fizzes uses bolsters slaps speaks pleads ...\n",
      "WDT: WH-determiner\n",
      "    that what whatever which whichever\n",
      "WP: WH-pronoun\n",
      "    that what whatever whatsoever which who whom whosoever\n",
      "WP$: WH-pronoun, possessive\n",
      "    whose\n",
      "WRB: Wh-adverb\n",
      "    how however whence whenever where whereby whereever wherein whereof why\n",
      "``: opening quotation mark\n",
      "    ` ``\n"
     ]
    }
   ],
   "source": [
    "nltk.help.upenn_tagset()"
   ]
  },
  {
   "cell_type": "code",
   "execution_count": 27,
   "metadata": {},
   "outputs": [],
   "source": [
    "import re"
   ]
  },
  {
   "cell_type": "code",
   "execution_count": 55,
   "metadata": {},
   "outputs": [],
   "source": [
    "demonstrative_pronouns = re.compile(\n",
    "        \"\\sSuch\\s|\\sThis\\s|\\sThat\\s|\\sThese\\s|\\sThose\\s|\\sEither\\s|\\sNeither\\s|\\sHis\\s|\\sHer\\s|\\sThey\\s|\\sIt\\s|\\sShe\\s|\\sHe\\s|\\sThem\\s|\\sthemselves\\s|\\sherself\\s|\\shimself\\s|\\sWe\\s\", re.IGNORECASE)"
   ]
  },
  {
   "cell_type": "code",
   "execution_count": 56,
   "metadata": {},
   "outputs": [
    {
     "data": {
      "text/plain": [
       "[' these ']"
      ]
     },
     "execution_count": 56,
     "metadata": {},
     "output_type": "execute_result"
    }
   ],
   "source": [
    "demonstrative_pronouns.findall(\"In these  blinks, youll find out why subliminal messages can make you crave more popcorn; how fast computers contributed to a global financial market crisis; and why a majority of doctors may b\")"
   ]
  },
  {
   "cell_type": "code",
   "execution_count": 63,
   "metadata": {},
   "outputs": [],
   "source": [
    "    demonstrative_pronouns = demonstrative_pronouns = re.compile(\n",
    "        \"\\sSuch\\s|\\s?This\\s|\\sThat\\s|\\sThese\\s|\\sThose\\s|\\sEither\\s|\\sNeither\\s|\\sHis\\s|\\sHer\\s|\\sThey\\s|\\sIt\\s|\\sShe\\s|\\sHe\\s|\\sThem\\s|\\sthemselves\\s|\\sherself\\s|\\shimself\\s|\\sWe\\s|\\sso\\s\", re.IGNORECASE)"
   ]
  },
  {
   "cell_type": "code",
   "execution_count": 65,
   "metadata": {},
   "outputs": [
    {
     "data": {
      "text/plain": [
       "['This ']"
      ]
     },
     "execution_count": 65,
     "metadata": {},
     "output_type": "execute_result"
    }
   ],
   "source": [
    "demonstrative_pronouns.findall(\"This was certainly the case for legendary inventor.\")"
   ]
  },
  {
   "cell_type": "code",
   "execution_count": 30,
   "metadata": {},
   "outputs": [
    {
     "name": "stdout",
     "output_type": "stream",
     "text": [
      "<_sre.SRE_Match object at 0x7f6791d76bf8>\n"
     ]
    }
   ],
   "source": [
    "print a"
   ]
  },
  {
   "cell_type": "code",
   "execution_count": 74,
   "metadata": {},
   "outputs": [],
   "source": [
    "p = re.compile(r\"\\bShirish\\b\")"
   ]
  },
  {
   "cell_type": "code",
   "execution_count": 75,
   "metadata": {},
   "outputs": [
    {
     "data": {
      "text/plain": [
       "['Shirish']"
      ]
     },
     "execution_count": 75,
     "metadata": {},
     "output_type": "execute_result"
    }
   ],
   "source": [
    "p.findall(\"abc Shirish abc\")"
   ]
  },
  {
   "cell_type": "code",
   "execution_count": 2,
   "metadata": {},
   "outputs": [],
   "source": [
    "from gensim.summarization import summarize"
   ]
  },
  {
   "cell_type": "code",
   "execution_count": 5,
   "metadata": {},
   "outputs": [],
   "source": [
    "text = '''What’s in it for me? Follow the making of a legendary investor.Besides Bill Gates and Mark Zuckerberg, Warren Buffett is probably one of the best-known billionaires in the world. With his low-key profile and homegrown style – he does his own taxes and wears slightly shabby suits – the “Sage of Omaha” is a beloved man, even among those who tend to have little sympathy for the super wealthy.\n",
    "So who is Warren Buffett?\n",
    "That’s what you’ll learn in these blinks. We follow Buffett from growing up in Omaha, through his early days in trading, to his years as the richest man in the world. And we get a glimpse of the unique investment sense he showed throughout his business life.\n",
    "In these blinks, you’ll find out\n",
    "\n",
    "that Buffett made his first stock trade as a child;\n",
    "what investment philosophy has influenced all of Buffett’s investments; and\n",
    "why Berkshire Hathaway is the company most associated with Buffett.\n",
    "Warren Buffett grew up in the Midwestern city of Omaha, Nebraska. Money was often on his mind.Warren Edward Buffett was born to Howard and Leila Buffett on August 30, 1930, at a time when many families were facing an uncertain future.\n",
    "As a child of the Great Depression, young Warren learned the value of money.\n",
    "In 1932, when the Depression hit Warren’s hometown of Omaha, Nebraska, his father lost his job as a securities salesman for a local bank. But his dad was resourceful and soon began his own company, selling safe and reliable stocks and bonds.\n",
    "Earnings were meager. Indeed, they could afford so little food that Warren’s mother would often give her portion to Howard so that he would have a decent meal.\n",
    "These difficult times left a lasting impression on Warren Buffett, and fueled his desire for the kind of security and stability that money can buy. Even though his father’s business became successful when Warren was six, he never forgot those early Depression years.\n",
    "It wasn’t long before Warren’s interest in investment and entrepreneurship revealed itself.\n",
    "He always looked forward to visiting his father’s office, and, when Warren was ten, Howard took him on an exciting business trip to New York, where they visited the Stock Exchange.\n",
    "A year later, when he was eleven, Warren made his first profit by buying and selling stocks along with his sister, Doris.\n",
    "To afford these stocks, Warren had undertaken many entrepreneurial activities, such as roaming the local golf course to collect lost golf balls and then selling them back to the owner.\n",
    "At the age of 14, Warren was in charge of five separate paper routes, which had him getting up early every morning, delivering papers and collecting subscription fees.\n",
    "By saving every cent he made, Warren purchased 40 acres of land for $1,200. He wasn’t yet fifteen.\n",
    "Warren was no slouch at school, either. He graduated in the top three percent and enrolled at the Wharton School of Finance and Commerce, in Pennsylvania, where his love of money would only grow.At Columbia Business School, Buffett met his mentor and began his investment career.With straight A’s as an undergrad, Buffett was surprised when his application for postgraduate studies was rejected by the Harvard Business School. But this rejection might have been for the best, since his professor at Columbia Business School (which accepted him) would have a massive impact on his life.'''"
   ]
  },
  {
   "cell_type": "code",
   "execution_count": 7,
   "metadata": {},
   "outputs": [
    {
     "name": "stdout",
     "output_type": "stream",
     "text": [
      "Follow the making of a legendary investor.Besides Bill Gates and Mark Zuckerberg, Warren Buffett is probably one of the best-known billionaires in the world.\n",
      "We follow Buffett from growing up in Omaha, through his early days in trading, to his years as the richest man in the world.\n",
      "that Buffett made his first stock trade as a child;\n",
      "Warren Buffett grew up in the Midwestern city of Omaha, Nebraska.\n",
      "Money was often on his mind.Warren Edward Buffett was born to Howard and Leila Buffett on August 30, 1930, at a time when many families were facing an uncertain future.\n",
      "As a child of the Great Depression, young Warren learned the value of money.\n",
      "In 1932, when the Depression hit Warren’s hometown of Omaha, Nebraska, his father lost his job as a securities salesman for a local bank.\n",
      "These difficult times left a lasting impression on Warren Buffett, and fueled his desire for the kind of security and stability that money can buy.\n",
      "Even though his father’s business became successful when Warren was six, he never forgot those early Depression years.\n",
      "It wasn’t long before Warren’s interest in investment and entrepreneurship revealed itself.\n",
      "He always looked forward to visiting his father’s office, and, when Warren was ten, Howard took him on an exciting business trip to New York, where they visited the Stock Exchange.\n",
      "A year later, when he was eleven, Warren made his first profit by buying and selling stocks along with his sister, Doris.\n",
      "To afford these stocks, Warren had undertaken many entrepreneurial activities, such as roaming the local golf course to collect lost golf balls and then selling them back to the owner.\n",
      "He graduated in the top three percent and enrolled at the Wharton School of Finance and Commerce, in Pennsylvania, where his love of money would only grow.At Columbia Business School, Buffett met his mentor and began his investment career.With straight A’s as an undergrad, Buffett was surprised when his application for postgraduate studies was rejected by the Harvard Business School.\n",
      "But this rejection might have been for the best, since his professor at Columbia Business School (which accepted him) would have a massive impact on his life.\n"
     ]
    }
   ],
   "source": [
    "print summarize(text, ratio=0.5)"
   ]
  },
  {
   "cell_type": "code",
   "execution_count": 1,
   "metadata": {},
   "outputs": [],
   "source": [
    "s = \"Sample Text\""
   ]
  },
  {
   "cell_type": "code",
   "execution_count": 3,
   "metadata": {},
   "outputs": [],
   "source": [
    "s = unicode(s, errors=\"ignore\")"
   ]
  },
  {
   "cell_type": "code",
   "execution_count": 4,
   "metadata": {},
   "outputs": [
    {
     "name": "stdout",
     "output_type": "stream",
     "text": [
      "Sample Text\n"
     ]
    }
   ],
   "source": [
    "print s\n"
   ]
  },
  {
   "cell_type": "code",
   "execution_count": null,
   "metadata": {},
   "outputs": [],
   "source": []
  }
 ],
 "metadata": {
  "kernelspec": {
   "display_name": "Python 2",
   "language": "python",
   "name": "python2"
  },
  "language_info": {
   "codemirror_mode": {
    "name": "ipython",
    "version": 2
   },
   "file_extension": ".py",
   "mimetype": "text/x-python",
   "name": "python",
   "nbconvert_exporter": "python",
   "pygments_lexer": "ipython2",
   "version": "2.7.12"
  },
  "name": "sentence_structure.ipynb"
 },
 "nbformat": 4,
 "nbformat_minor": 2
}
