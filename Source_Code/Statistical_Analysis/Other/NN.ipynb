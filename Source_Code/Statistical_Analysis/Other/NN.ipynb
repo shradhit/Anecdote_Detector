{
 "cells": [
  {
   "cell_type": "code",
   "execution_count": 44,
   "metadata": {},
   "outputs": [],
   "source": [
    "import nltk\n",
    "import xgboost as xgb\n",
    "import numpy as np\n",
    "import pandas as pd\n",
    "from sklearn.ensemble import RandomForestClassifier, AdaBoostClassifier\n",
    "from sklearn.svm import SVC\n",
    "from sklearn.naive_bayes import MultinomialNB\n",
    "from sklearn.utils import shuffle\n",
    "from sklearn.metrics import accuracy_score, precision_score, recall_score, f1_score\n",
    "import matplotlib.pyplot as plt\n",
    "from sklearn.cross_validation import train_test_split\n",
    "from sklearn.cross_validation import cross_val_score\n",
    "from sklearn.metrics import confusion_matrix\n",
    "import seaborn as sns\n",
    "from sklearn.feature_extraction.text import TfidfVectorizer"
   ]
  },
  {
   "cell_type": "code",
   "execution_count": 45,
   "metadata": {},
   "outputs": [],
   "source": [
    "fname_all_anecdotal_sents = \"/home/shirish/BTECHSEM2/project/books/stories/new_complete_stories.txt\"\n",
    "fname_all_non_anecdotal_sents = \"/home/shirish/BTECHSEM2/project/books/annotated_books/stories_without_anecdotes/new_all_stories.txt2\"\n",
    "fname_all_stories_sents = \"/home/shirish/BTECHSEM2/project/books/combined_book/all_stories.txt\"\n",
    "fname_buffet_sents = \"/home/shirish/BTECHSEM2/project/books/buffet_en.txt\"\n",
    "imp_cols = [\"NNP\",\"VB\", \"VBD\", \"VBG\", \"VBN\", \"VBP\", \"VBZ\"]"
   ]
  },
  {
   "cell_type": "code",
   "execution_count": 46,
   "metadata": {},
   "outputs": [],
   "source": [
    "def tokenize(fname):\n",
    "    \"\"\"\n",
    "    @param fname = filename\n",
    "    Returns = list of sentences, where each sentence is a list of POS tagged words\n",
    "    \"\"\"\n",
    "    f = open(fname, \"r\")\n",
    "    taggedSents = []\n",
    "    s = f.read()\n",
    "    s = s.lower()\n",
    "    s = unicode(s, errors=\"ignore\")\n",
    "    sentences = nltk.sent_tokenize(s)\n",
    "    for i in sentences:\n",
    "        taggedSents.append(nltk.pos_tag(nltk.word_tokenize(i)))\n",
    "    return taggedSents"
   ]
  },
  {
   "cell_type": "code",
   "execution_count": 47,
   "metadata": {},
   "outputs": [],
   "source": [
    "def featureset_df(taggedSents, value, imp_cols):\n",
    "    \"\"\"\n",
    "    This function returns a dataframe consisting of the imp_cols and target column after\n",
    "    removing the NaN values\n",
    "    @param taggedSents = list of sentences, where each sentence is a list of POS tagged words\n",
    "    @param value = Value given to the target column in the dataframe\n",
    "    Returns = dataframe with columns as imp_cols and target with value @param value\n",
    "    \"\"\"\n",
    "    sents1 = []\n",
    "    for i in taggedSents:\n",
    "        l = {}\n",
    "        for j in i:\n",
    "            if j[1].isalpha():\n",
    "                # If Noun\n",
    "                if j[1][0] == \"NNP\":# or j[1] == \"PRP\":\n",
    "                    l[\"NNP\"] = 1\n",
    "                else:\n",
    "                    l[j[1]] = 1\n",
    "        sents1.append(l)\n",
    "    df = pd.DataFrame(sents1)\n",
    "    df.fillna(0, inplace=True)\n",
    "    features = df[imp_cols]\n",
    "    features[\"target\"] = value\n",
    "    return features"
   ]
  },
  {
   "cell_type": "code",
   "execution_count": 48,
   "metadata": {},
   "outputs": [],
   "source": [
    "def tagSentences():\n",
    "    \"\"\"\n",
    "    This function returns two tagged sentences list\n",
    "    ie List of non_anecdotal , list of anecdotal sentences\n",
    "    \"\"\"\n",
    "    taggedSents1 = tokenize(\n",
    "    \"/home/shirish/BTECHSEM2/project/books/stories/new_complete_stories.txt\")\n",
    "    taggedSents0 = tokenize(\n",
    "    \"/home/shirish/BTECHSEM2/project/books/annotated_books/stories_without_anecdotes/new_all_stories.txt2\")\n",
    "    return taggedSents0, taggedSents1\n",
    "    "
   ]
  },
  {
   "cell_type": "code",
   "execution_count": 49,
   "metadata": {},
   "outputs": [],
   "source": [
    "def create_feature_set_df(taggedSents0, taggedSents1):\n",
    "    \"\"\"\n",
    "    Call this function after calling tagSentences()\n",
    "    This function returns the features dataframe\n",
    "    \"\"\"\n",
    "    features0 = featureset_df(taggedSents0, 0, imp_cols)\n",
    "    if(taggedSents1 is not None):\n",
    "        features1 = featureset_df(taggedSents1, 1, imp_cols)\n",
    "        features = pd.concat([features1, features0])\n",
    "    else:\n",
    "        features = features0\n",
    "    return features\n",
    "    "
   ]
  },
  {
   "cell_type": "code",
   "execution_count": 50,
   "metadata": {},
   "outputs": [],
   "source": [
    "def model_train(model, X_train, y_train):\n",
    "    model = MultinomialNB()\n",
    "    model = model.fit(X_train, y_train)\n",
    "    return model"
   ]
  },
  {
   "cell_type": "code",
   "execution_count": 51,
   "metadata": {},
   "outputs": [
    {
     "name": "stderr",
     "output_type": "stream",
     "text": [
      "/usr/local/lib/python2.7/dist-packages/ipykernel_launcher.py:23: SettingWithCopyWarning: \n",
      "A value is trying to be set on a copy of a slice from a DataFrame.\n",
      "Try using .loc[row_indexer,col_indexer] = value instead\n",
      "\n",
      "See the caveats in the documentation: http://pandas.pydata.org/pandas-docs/stable/indexing.html#indexing-view-versus-copy\n"
     ]
    }
   ],
   "source": [
    "TS0, TS1 = tagSentences()\n",
    "df = create_feature_set_df(TS0, TS1)\n",
    "df = shuffle(df)\n",
    "X_train, X_test, y_train, y_test = train_test_split(df[imp_cols], df[\"target\"], test_size=0.25)"
   ]
  },
  {
   "cell_type": "code",
   "execution_count": 52,
   "metadata": {},
   "outputs": [],
   "source": [
    "\n",
    "from sklearn.feature_extraction.text import CountVectorizer\n",
    "from keras.preprocessing.text import Tokenizer\n",
    "from keras.preprocessing.sequence import pad_sequences\n",
    "from keras.models import Sequential\n",
    "from keras.layers import Dense, Embedding, LSTM, SpatialDropout1D\n",
    "from sklearn.model_selection import train_test_split\n",
    "from keras.utils.np_utils import to_categorical\n",
    "import re"
   ]
  },
  {
   "cell_type": "code",
   "execution_count": 53,
   "metadata": {},
   "outputs": [
    {
     "data": {
      "text/plain": [
       "Index([u'NNP', u'VB', u'VBD', u'VBG', u'VBN', u'VBP', u'VBZ', u'target'], dtype='object')"
      ]
     },
     "execution_count": 53,
     "metadata": {},
     "output_type": "execute_result"
    }
   ],
   "source": [
    "df.columns\n"
   ]
  },
  {
   "cell_type": "code",
   "execution_count": 58,
   "metadata": {},
   "outputs": [],
   "source": [
    "model = Sequential()"
   ]
  },
  {
   "cell_type": "code",
   "execution_count": 59,
   "metadata": {},
   "outputs": [
    {
     "name": "stderr",
     "output_type": "stream",
     "text": [
      "/usr/local/lib/python2.7/dist-packages/ipykernel_launcher.py:1: UserWarning: Update your `Dense` call to the Keras 2 API: `Dense(100, activation=\"sigmoid\", kernel_initializer=\"uniform\", input_dim=7)`\n",
      "  \"\"\"Entry point for launching an IPython kernel.\n",
      "/usr/local/lib/python2.7/dist-packages/ipykernel_launcher.py:2: UserWarning: Update your `Dense` call to the Keras 2 API: `Dense(50, activation=\"sigmoid\", kernel_initializer=\"uniform\")`\n",
      "  \n",
      "/usr/local/lib/python2.7/dist-packages/ipykernel_launcher.py:3: UserWarning: Update your `Dense` call to the Keras 2 API: `Dense(40, activation=\"sigmoid\", kernel_initializer=\"uniform\")`\n",
      "  This is separate from the ipykernel package so we can avoid doing imports until\n",
      "/usr/local/lib/python2.7/dist-packages/ipykernel_launcher.py:4: UserWarning: Update your `Dense` call to the Keras 2 API: `Dense(20, activation=\"sigmoid\", kernel_initializer=\"uniform\")`\n",
      "  after removing the cwd from sys.path.\n",
      "/usr/local/lib/python2.7/dist-packages/ipykernel_launcher.py:5: UserWarning: Update your `Dense` call to the Keras 2 API: `Dense(8, activation=\"sigmoid\", kernel_initializer=\"uniform\")`\n",
      "  \"\"\"\n",
      "/usr/local/lib/python2.7/dist-packages/ipykernel_launcher.py:6: UserWarning: Update your `Dense` call to the Keras 2 API: `Dense(1, activation=\"sigmoid\", kernel_initializer=\"uniform\")`\n",
      "  \n"
     ]
    }
   ],
   "source": [
    "model.add(Dense(100, input_dim=7, init='uniform', activation='sigmoid'))\n",
    "model.add(Dense(50, init='uniform', activation='sigmoid'))\n",
    "model.add(Dense(40, init='uniform', activation='sigmoid'))\n",
    "model.add(Dense(20, init='uniform', activation='sigmoid'))\n",
    "model.add(Dense(8, init='uniform', activation='sigmoid'))\n",
    "model.add(Dense(1, init='uniform', activation='sigmoid'))\n",
    "model.compile(loss='binary_crossentropy', optimizer='adam', metrics=['accuracy'])"
   ]
  },
  {
   "cell_type": "code",
   "execution_count": 60,
   "metadata": {},
   "outputs": [
    {
     "name": "stdout",
     "output_type": "stream",
     "text": [
      "Epoch 1/100\n",
      "1422/1422 [==============================] - 1s 356us/step - loss: 0.6854 - acc: 0.5774\n",
      "Epoch 2/100\n",
      "1422/1422 [==============================] - 0s 131us/step - loss: 0.6820 - acc: 0.5774\n",
      "Epoch 3/100\n",
      "1422/1422 [==============================] - 0s 121us/step - loss: 0.6814 - acc: 0.5774\n",
      "Epoch 4/100\n",
      "1422/1422 [==============================] - 0s 126us/step - loss: 0.6814 - acc: 0.5774\n",
      "Epoch 5/100\n",
      "1422/1422 [==============================] - 0s 140us/step - loss: 0.6816 - acc: 0.5774\n",
      "Epoch 6/100\n",
      "1422/1422 [==============================] - 0s 146us/step - loss: 0.6814 - acc: 0.5774\n",
      "Epoch 7/100\n",
      "1422/1422 [==============================] - 0s 170us/step - loss: 0.6816 - acc: 0.5774\n",
      "Epoch 8/100\n",
      "1422/1422 [==============================] - 0s 157us/step - loss: 0.6814 - acc: 0.5774\n",
      "Epoch 9/100\n",
      "1422/1422 [==============================] - 0s 127us/step - loss: 0.6813 - acc: 0.5774\n",
      "Epoch 10/100\n",
      "1422/1422 [==============================] - 0s 128us/step - loss: 0.6812 - acc: 0.5774\n",
      "Epoch 11/100\n",
      "1422/1422 [==============================] - 0s 127us/step - loss: 0.6811 - acc: 0.5774\n",
      "Epoch 12/100\n",
      "1422/1422 [==============================] - 0s 126us/step - loss: 0.6809 - acc: 0.5774\n",
      "Epoch 13/100\n",
      "1422/1422 [==============================] - 0s 129us/step - loss: 0.6804 - acc: 0.5774\n",
      "Epoch 14/100\n",
      "1422/1422 [==============================] - 0s 137us/step - loss: 0.6800 - acc: 0.5774\n",
      "Epoch 15/100\n",
      "1422/1422 [==============================] - 0s 137us/step - loss: 0.6793 - acc: 0.5774\n",
      "Epoch 16/100\n",
      "1422/1422 [==============================] - 0s 180us/step - loss: 0.6779 - acc: 0.5774\n",
      "Epoch 17/100\n",
      "1422/1422 [==============================] - 0s 163us/step - loss: 0.6756 - acc: 0.5774\n",
      "Epoch 18/100\n",
      "1422/1422 [==============================] - 0s 138us/step - loss: 0.6717 - acc: 0.5774\n",
      "Epoch 19/100\n",
      "1422/1422 [==============================] - 0s 148us/step - loss: 0.6648 - acc: 0.5774\n",
      "Epoch 20/100\n",
      "1422/1422 [==============================] - 0s 169us/step - loss: 0.6535 - acc: 0.5774\n",
      "Epoch 21/100\n",
      "1422/1422 [==============================] - 0s 178us/step - loss: 0.6410 - acc: 0.6160\n",
      "Epoch 22/100\n",
      "1422/1422 [==============================] - 0s 139us/step - loss: 0.6305 - acc: 0.7004\n",
      "Epoch 23/100\n",
      "1422/1422 [==============================] - 0s 134us/step - loss: 0.6224 - acc: 0.7004\n",
      "Epoch 24/100\n",
      "1422/1422 [==============================] - 0s 140us/step - loss: 0.6173 - acc: 0.7004\n",
      "Epoch 25/100\n",
      "1422/1422 [==============================] - 0s 143us/step - loss: 0.6144 - acc: 0.7011\n",
      "Epoch 26/100\n",
      "1422/1422 [==============================] - 0s 141us/step - loss: 0.6105 - acc: 0.7032\n",
      "Epoch 27/100\n",
      "1422/1422 [==============================] - 0s 130us/step - loss: 0.6090 - acc: 0.7039\n",
      "Epoch 28/100\n",
      "1422/1422 [==============================] - 0s 143us/step - loss: 0.6078 - acc: 0.7039\n",
      "Epoch 29/100\n",
      "1422/1422 [==============================] - 0s 149us/step - loss: 0.6075 - acc: 0.7046\n",
      "Epoch 30/100\n",
      "1422/1422 [==============================] - 0s 189us/step - loss: 0.6067 - acc: 0.7046\n",
      "Epoch 31/100\n",
      "1422/1422 [==============================] - 0s 145us/step - loss: 0.6068 - acc: 0.7039\n",
      "Epoch 32/100\n",
      "1422/1422 [==============================] - 0s 144us/step - loss: 0.6065 - acc: 0.7039\n",
      "Epoch 33/100\n",
      "1422/1422 [==============================] - 0s 144us/step - loss: 0.6060 - acc: 0.7046\n",
      "Epoch 34/100\n",
      "1422/1422 [==============================] - 0s 144us/step - loss: 0.6063 - acc: 0.7039\n",
      "Epoch 35/100\n",
      "1422/1422 [==============================] - 0s 150us/step - loss: 0.6059 - acc: 0.7060\n",
      "Epoch 36/100\n",
      "1422/1422 [==============================] - 0s 148us/step - loss: 0.6064 - acc: 0.7039\n",
      "Epoch 37/100\n",
      "1422/1422 [==============================] - 0s 170us/step - loss: 0.6064 - acc: 0.7046\n",
      "Epoch 38/100\n",
      "1422/1422 [==============================] - 0s 195us/step - loss: 0.6055 - acc: 0.7053\n",
      "Epoch 39/100\n",
      "1422/1422 [==============================] - 0s 161us/step - loss: 0.6079 - acc: 0.7011\n",
      "Epoch 40/100\n",
      "1422/1422 [==============================] - 0s 169us/step - loss: 0.6061 - acc: 0.7046\n",
      "Epoch 41/100\n",
      "1422/1422 [==============================] - 0s 192us/step - loss: 0.6058 - acc: 0.7046\n",
      "Epoch 42/100\n",
      "1422/1422 [==============================] - 0s 201us/step - loss: 0.6059 - acc: 0.7053\n",
      "Epoch 43/100\n",
      "1422/1422 [==============================] - 0s 200us/step - loss: 0.6059 - acc: 0.7046\n",
      "Epoch 44/100\n",
      "1422/1422 [==============================] - 0s 145us/step - loss: 0.6057 - acc: 0.7053\n",
      "Epoch 45/100\n",
      "1422/1422 [==============================] - 0s 171us/step - loss: 0.6058 - acc: 0.7039\n",
      "Epoch 46/100\n",
      "1422/1422 [==============================] - 0s 191us/step - loss: 0.6056 - acc: 0.7046\n",
      "Epoch 47/100\n",
      "1422/1422 [==============================] - 0s 138us/step - loss: 0.6049 - acc: 0.7046\n",
      "Epoch 48/100\n",
      "1422/1422 [==============================] - 0s 144us/step - loss: 0.6066 - acc: 0.7039\n",
      "Epoch 49/100\n",
      "1422/1422 [==============================] - 0s 142us/step - loss: 0.6061 - acc: 0.7053\n",
      "Epoch 50/100\n",
      "1422/1422 [==============================] - 0s 142us/step - loss: 0.6054 - acc: 0.7053\n",
      "Epoch 51/100\n",
      "1422/1422 [==============================] - 0s 142us/step - loss: 0.6063 - acc: 0.7053\n",
      "Epoch 52/100\n",
      "1422/1422 [==============================] - 0s 135us/step - loss: 0.6059 - acc: 0.7032\n",
      "Epoch 53/100\n",
      "1422/1422 [==============================] - 0s 144us/step - loss: 0.6059 - acc: 0.7053\n",
      "Epoch 54/100\n",
      "1422/1422 [==============================] - 0s 130us/step - loss: 0.6057 - acc: 0.7053\n",
      "Epoch 55/100\n",
      "1422/1422 [==============================] - 0s 124us/step - loss: 0.6054 - acc: 0.7068\n",
      "Epoch 56/100\n",
      "1422/1422 [==============================] - 0s 124us/step - loss: 0.6057 - acc: 0.7046\n",
      "Epoch 57/100\n",
      "1422/1422 [==============================] - 0s 120us/step - loss: 0.6061 - acc: 0.7046\n",
      "Epoch 58/100\n",
      "1422/1422 [==============================] - 0s 151us/step - loss: 0.6055 - acc: 0.7060\n",
      "Epoch 59/100\n",
      "1422/1422 [==============================] - 0s 174us/step - loss: 0.6059 - acc: 0.7039\n",
      "Epoch 60/100\n",
      "1422/1422 [==============================] - 0s 138us/step - loss: 0.6059 - acc: 0.7053\n",
      "Epoch 61/100\n",
      "1422/1422 [==============================] - 0s 127us/step - loss: 0.6055 - acc: 0.7032\n",
      "Epoch 62/100\n",
      "1422/1422 [==============================] - 0s 127us/step - loss: 0.6060 - acc: 0.7053\n",
      "Epoch 63/100\n",
      "1422/1422 [==============================] - 0s 134us/step - loss: 0.6058 - acc: 0.7053\n",
      "Epoch 64/100\n",
      "1422/1422 [==============================] - 0s 144us/step - loss: 0.6055 - acc: 0.7053\n",
      "Epoch 65/100\n",
      "1422/1422 [==============================] - 0s 140us/step - loss: 0.6064 - acc: 0.7046\n",
      "Epoch 66/100\n",
      "1422/1422 [==============================] - 0s 137us/step - loss: 0.6050 - acc: 0.7060\n",
      "Epoch 67/100\n",
      "1422/1422 [==============================] - 0s 151us/step - loss: 0.6048 - acc: 0.7060\n",
      "Epoch 68/100\n",
      "1422/1422 [==============================] - 0s 152us/step - loss: 0.6050 - acc: 0.7046\n",
      "Epoch 69/100\n",
      "1422/1422 [==============================] - 0s 169us/step - loss: 0.6054 - acc: 0.7046\n",
      "Epoch 70/100\n",
      "1422/1422 [==============================] - 0s 160us/step - loss: 0.6062 - acc: 0.7032\n",
      "Epoch 71/100\n",
      "1422/1422 [==============================] - 0s 164us/step - loss: 0.6052 - acc: 0.7053\n",
      "Epoch 72/100\n",
      "1422/1422 [==============================] - 0s 137us/step - loss: 0.6051 - acc: 0.7060\n",
      "Epoch 73/100\n",
      "1422/1422 [==============================] - 0s 158us/step - loss: 0.6051 - acc: 0.7039\n",
      "Epoch 74/100\n",
      "1422/1422 [==============================] - 0s 158us/step - loss: 0.6053 - acc: 0.7060\n",
      "Epoch 75/100\n",
      "1422/1422 [==============================] - 0s 167us/step - loss: 0.6051 - acc: 0.7039\n",
      "Epoch 76/100\n",
      "1422/1422 [==============================] - 0s 168us/step - loss: 0.6055 - acc: 0.7046\n",
      "Epoch 77/100\n",
      "1422/1422 [==============================] - 0s 167us/step - loss: 0.6051 - acc: 0.7046\n",
      "Epoch 78/100\n",
      "1422/1422 [==============================] - 0s 166us/step - loss: 0.6052 - acc: 0.7053\n",
      "Epoch 79/100\n",
      "1422/1422 [==============================] - 0s 165us/step - loss: 0.6049 - acc: 0.7039\n",
      "Epoch 80/100\n",
      "1422/1422 [==============================] - 0s 162us/step - loss: 0.6050 - acc: 0.7060\n",
      "Epoch 81/100\n",
      "1422/1422 [==============================] - 0s 169us/step - loss: 0.6053 - acc: 0.7053\n",
      "Epoch 82/100\n"
     ]
    },
    {
     "name": "stdout",
     "output_type": "stream",
     "text": [
      "1422/1422 [==============================] - 0s 164us/step - loss: 0.6048 - acc: 0.7046\n",
      "Epoch 83/100\n",
      "1422/1422 [==============================] - 0s 163us/step - loss: 0.6054 - acc: 0.7039\n",
      "Epoch 84/100\n",
      "1422/1422 [==============================] - 0s 155us/step - loss: 0.6049 - acc: 0.7060\n",
      "Epoch 85/100\n",
      "1422/1422 [==============================] - 0s 167us/step - loss: 0.6053 - acc: 0.7032\n",
      "Epoch 86/100\n",
      "1422/1422 [==============================] - 0s 156us/step - loss: 0.6049 - acc: 0.7060\n",
      "Epoch 87/100\n",
      "1422/1422 [==============================] - 0s 153us/step - loss: 0.6049 - acc: 0.7068\n",
      "Epoch 88/100\n",
      "1422/1422 [==============================] - 0s 158us/step - loss: 0.6048 - acc: 0.7068\n",
      "Epoch 89/100\n",
      "1422/1422 [==============================] - 0s 155us/step - loss: 0.6054 - acc: 0.7039\n",
      "Epoch 90/100\n",
      "1422/1422 [==============================] - 0s 156us/step - loss: 0.6052 - acc: 0.7060\n",
      "Epoch 91/100\n",
      "1422/1422 [==============================] - 0s 149us/step - loss: 0.6052 - acc: 0.7053\n",
      "Epoch 92/100\n",
      "1422/1422 [==============================] - 0s 161us/step - loss: 0.6051 - acc: 0.7053\n",
      "Epoch 93/100\n",
      "1422/1422 [==============================] - 0s 157us/step - loss: 0.6048 - acc: 0.7046\n",
      "Epoch 94/100\n",
      "1422/1422 [==============================] - 0s 159us/step - loss: 0.6051 - acc: 0.7046\n",
      "Epoch 95/100\n",
      "1422/1422 [==============================] - 0s 152us/step - loss: 0.6049 - acc: 0.7046\n",
      "Epoch 96/100\n",
      "1422/1422 [==============================] - 0s 137us/step - loss: 0.6047 - acc: 0.7046\n",
      "Epoch 97/100\n",
      "1422/1422 [==============================] - 0s 128us/step - loss: 0.6050 - acc: 0.7060\n",
      "Epoch 98/100\n",
      "1422/1422 [==============================] - 0s 123us/step - loss: 0.6053 - acc: 0.7053\n",
      "Epoch 99/100\n",
      "1422/1422 [==============================] - 0s 156us/step - loss: 0.6048 - acc: 0.7060\n",
      "Epoch 100/100\n",
      "1422/1422 [==============================] - 0s 153us/step - loss: 0.6050 - acc: 0.7053\n"
     ]
    },
    {
     "data": {
      "text/plain": [
       "<keras.callbacks.History at 0x7ff2cb5f8ed0>"
      ]
     },
     "execution_count": 60,
     "metadata": {},
     "output_type": "execute_result"
    }
   ],
   "source": [
    "model.fit(df[imp_cols], df[\"target\"], nb_epoch=100, batch_size=16)"
   ]
  },
  {
   "cell_type": "code",
   "execution_count": 36,
   "metadata": {},
   "outputs": [
    {
     "data": {
      "text/html": [
       "<div>\n",
       "<style scoped>\n",
       "    .dataframe tbody tr th:only-of-type {\n",
       "        vertical-align: middle;\n",
       "    }\n",
       "\n",
       "    .dataframe tbody tr th {\n",
       "        vertical-align: top;\n",
       "    }\n",
       "\n",
       "    .dataframe thead th {\n",
       "        text-align: right;\n",
       "    }\n",
       "</style>\n",
       "<table border=\"1\" class=\"dataframe\">\n",
       "  <thead>\n",
       "    <tr style=\"text-align: right;\">\n",
       "      <th></th>\n",
       "      <th>NNP</th>\n",
       "      <th>VB</th>\n",
       "      <th>VBD</th>\n",
       "      <th>VBG</th>\n",
       "      <th>VBN</th>\n",
       "      <th>VBP</th>\n",
       "      <th>VBZ</th>\n",
       "      <th>target</th>\n",
       "    </tr>\n",
       "  </thead>\n",
       "  <tbody>\n",
       "    <tr>\n",
       "      <th>804</th>\n",
       "      <td>0.0</td>\n",
       "      <td>1.0</td>\n",
       "      <td>0.0</td>\n",
       "      <td>1.0</td>\n",
       "      <td>0.0</td>\n",
       "      <td>0.0</td>\n",
       "      <td>1.0</td>\n",
       "      <td>0</td>\n",
       "    </tr>\n",
       "  </tbody>\n",
       "</table>\n",
       "</div>"
      ],
      "text/plain": [
       "     NNP   VB  VBD  VBG  VBN  VBP  VBZ  target\n",
       "804  0.0  1.0  0.0  1.0  0.0  0.0  1.0       0"
      ]
     },
     "execution_count": 36,
     "metadata": {},
     "output_type": "execute_result"
    }
   ],
   "source": [
    "df.head(1)"
   ]
  },
  {
   "cell_type": "code",
   "execution_count": 43,
   "metadata": {},
   "outputs": [
    {
     "data": {
      "text/plain": [
       "0    825\n",
       "1    603\n",
       "Name: target, dtype: int64"
      ]
     },
     "execution_count": 43,
     "metadata": {},
     "output_type": "execute_result"
    }
   ],
   "source": [
    "df[\"target\"].value_counts()"
   ]
  },
  {
   "cell_type": "code",
   "execution_count": null,
   "metadata": {},
   "outputs": [],
   "source": []
  }
 ],
 "metadata": {
  "kernelspec": {
   "display_name": "Python 2",
   "language": "python",
   "name": "python2"
  },
  "language_info": {
   "codemirror_mode": {
    "name": "ipython",
    "version": 2
   },
   "file_extension": ".py",
   "mimetype": "text/x-python",
   "name": "python",
   "nbconvert_exporter": "python",
   "pygments_lexer": "ipython2",
   "version": "2.7.12"
  }
 },
 "nbformat": 4,
 "nbformat_minor": 2
}
